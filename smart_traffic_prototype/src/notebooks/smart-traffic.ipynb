{
 "cells": [
  {
   "cell_type": "code",
   "execution_count": 4,
   "metadata": {},
   "outputs": [
    {
     "name": "stdout",
     "output_type": "stream",
     "text": [
      "Requirement already satisfied: ultralytics in c:\\users\\chari\\onedrive\\desktop\\keskia\\montoringsmarttraffic\\.venv\\lib\\site-packages (8.0.239)\n",
      "Requirement already satisfied: matplotlib>=3.3.0 in c:\\users\\chari\\onedrive\\desktop\\keskia\\montoringsmarttraffic\\.venv\\lib\\site-packages (from ultralytics) (3.8.2)\n",
      "Requirement already satisfied: numpy>=1.22.2 in c:\\users\\chari\\onedrive\\desktop\\keskia\\montoringsmarttraffic\\.venv\\lib\\site-packages (from ultralytics) (1.26.3)\n",
      "Requirement already satisfied: opencv-python>=4.6.0 in c:\\users\\chari\\onedrive\\desktop\\keskia\\montoringsmarttraffic\\.venv\\lib\\site-packages (from ultralytics) (4.7.0.72)\n",
      "Requirement already satisfied: pillow>=7.1.2 in c:\\users\\chari\\onedrive\\desktop\\keskia\\montoringsmarttraffic\\.venv\\lib\\site-packages (from ultralytics) (10.2.0)\n",
      "Requirement already satisfied: pyyaml>=5.3.1 in c:\\users\\chari\\onedrive\\desktop\\keskia\\montoringsmarttraffic\\.venv\\lib\\site-packages (from ultralytics) (6.0.1)\n",
      "Requirement already satisfied: requests>=2.23.0 in c:\\users\\chari\\onedrive\\desktop\\keskia\\montoringsmarttraffic\\.venv\\lib\\site-packages (from ultralytics) (2.31.0)\n",
      "Requirement already satisfied: scipy>=1.4.1 in c:\\users\\chari\\onedrive\\desktop\\keskia\\montoringsmarttraffic\\.venv\\lib\\site-packages (from ultralytics) (1.12.0)\n",
      "Requirement already satisfied: torch>=1.8.0 in c:\\users\\chari\\onedrive\\desktop\\keskia\\montoringsmarttraffic\\.venv\\lib\\site-packages (from ultralytics) (2.1.2)\n",
      "Requirement already satisfied: torchvision>=0.9.0 in c:\\users\\chari\\onedrive\\desktop\\keskia\\montoringsmarttraffic\\.venv\\lib\\site-packages (from ultralytics) (0.16.2)\n",
      "Requirement already satisfied: tqdm>=4.64.0 in c:\\users\\chari\\onedrive\\desktop\\keskia\\montoringsmarttraffic\\.venv\\lib\\site-packages (from ultralytics) (4.66.1)\n",
      "Requirement already satisfied: psutil in c:\\users\\chari\\onedrive\\desktop\\keskia\\montoringsmarttraffic\\.venv\\lib\\site-packages (from ultralytics) (5.9.8)\n",
      "Requirement already satisfied: py-cpuinfo in c:\\users\\chari\\onedrive\\desktop\\keskia\\montoringsmarttraffic\\.venv\\lib\\site-packages (from ultralytics) (9.0.0)\n",
      "Requirement already satisfied: thop>=0.1.1 in c:\\users\\chari\\onedrive\\desktop\\keskia\\montoringsmarttraffic\\.venv\\lib\\site-packages (from ultralytics) (0.1.1.post2209072238)\n",
      "Requirement already satisfied: pandas>=1.1.4 in c:\\users\\chari\\onedrive\\desktop\\keskia\\montoringsmarttraffic\\.venv\\lib\\site-packages (from ultralytics) (2.2.0)\n",
      "Requirement already satisfied: seaborn>=0.11.0 in c:\\users\\chari\\onedrive\\desktop\\keskia\\montoringsmarttraffic\\.venv\\lib\\site-packages (from ultralytics) (0.13.1)\n",
      "Requirement already satisfied: hub-sdk>=0.0.2 in c:\\users\\chari\\onedrive\\desktop\\keskia\\montoringsmarttraffic\\.venv\\lib\\site-packages (from ultralytics) (0.0.3)\n",
      "Requirement already satisfied: contourpy>=1.0.1 in c:\\users\\chari\\onedrive\\desktop\\keskia\\montoringsmarttraffic\\.venv\\lib\\site-packages (from matplotlib>=3.3.0->ultralytics) (1.2.0)\n",
      "Requirement already satisfied: cycler>=0.10 in c:\\users\\chari\\onedrive\\desktop\\keskia\\montoringsmarttraffic\\.venv\\lib\\site-packages (from matplotlib>=3.3.0->ultralytics) (0.10.0)\n",
      "Requirement already satisfied: fonttools>=4.22.0 in c:\\users\\chari\\onedrive\\desktop\\keskia\\montoringsmarttraffic\\.venv\\lib\\site-packages (from matplotlib>=3.3.0->ultralytics) (4.47.2)\n",
      "Requirement already satisfied: kiwisolver>=1.3.1 in c:\\users\\chari\\onedrive\\desktop\\keskia\\montoringsmarttraffic\\.venv\\lib\\site-packages (from matplotlib>=3.3.0->ultralytics) (1.4.5)\n",
      "Requirement already satisfied: packaging>=20.0 in c:\\users\\chari\\onedrive\\desktop\\keskia\\montoringsmarttraffic\\.venv\\lib\\site-packages (from matplotlib>=3.3.0->ultralytics) (23.2)\n",
      "Requirement already satisfied: pyparsing>=2.3.1 in c:\\users\\chari\\onedrive\\desktop\\keskia\\montoringsmarttraffic\\.venv\\lib\\site-packages (from matplotlib>=3.3.0->ultralytics) (3.1.1)\n",
      "Requirement already satisfied: python-dateutil>=2.7 in c:\\users\\chari\\onedrive\\desktop\\keskia\\montoringsmarttraffic\\.venv\\lib\\site-packages (from matplotlib>=3.3.0->ultralytics) (2.8.2)\n",
      "Requirement already satisfied: pytz>=2020.1 in c:\\users\\chari\\onedrive\\desktop\\keskia\\montoringsmarttraffic\\.venv\\lib\\site-packages (from pandas>=1.1.4->ultralytics) (2023.3.post1)\n",
      "Requirement already satisfied: tzdata>=2022.7 in c:\\users\\chari\\onedrive\\desktop\\keskia\\montoringsmarttraffic\\.venv\\lib\\site-packages (from pandas>=1.1.4->ultralytics) (2023.4)\n",
      "Requirement already satisfied: charset-normalizer<4,>=2 in c:\\users\\chari\\onedrive\\desktop\\keskia\\montoringsmarttraffic\\.venv\\lib\\site-packages (from requests>=2.23.0->ultralytics) (3.3.2)\n",
      "Requirement already satisfied: idna<4,>=2.5 in c:\\users\\chari\\onedrive\\desktop\\keskia\\montoringsmarttraffic\\.venv\\lib\\site-packages (from requests>=2.23.0->ultralytics) (2.10)\n",
      "Requirement already satisfied: urllib3<3,>=1.21.1 in c:\\users\\chari\\onedrive\\desktop\\keskia\\montoringsmarttraffic\\.venv\\lib\\site-packages (from requests>=2.23.0->ultralytics) (2.1.0)\n",
      "Requirement already satisfied: certifi>=2017.4.17 in c:\\users\\chari\\onedrive\\desktop\\keskia\\montoringsmarttraffic\\.venv\\lib\\site-packages (from requests>=2.23.0->ultralytics) (2023.7.22)\n",
      "Requirement already satisfied: filelock in c:\\users\\chari\\onedrive\\desktop\\keskia\\montoringsmarttraffic\\.venv\\lib\\site-packages (from torch>=1.8.0->ultralytics) (3.13.1)\n",
      "Requirement already satisfied: typing-extensions in c:\\users\\chari\\onedrive\\desktop\\keskia\\montoringsmarttraffic\\.venv\\lib\\site-packages (from torch>=1.8.0->ultralytics) (4.9.0)\n",
      "Requirement already satisfied: sympy in c:\\users\\chari\\onedrive\\desktop\\keskia\\montoringsmarttraffic\\.venv\\lib\\site-packages (from torch>=1.8.0->ultralytics) (1.12)\n",
      "Requirement already satisfied: networkx in c:\\users\\chari\\onedrive\\desktop\\keskia\\montoringsmarttraffic\\.venv\\lib\\site-packages (from torch>=1.8.0->ultralytics) (3.2.1)\n",
      "Requirement already satisfied: jinja2 in c:\\users\\chari\\onedrive\\desktop\\keskia\\montoringsmarttraffic\\.venv\\lib\\site-packages (from torch>=1.8.0->ultralytics) (3.1.3)\n",
      "Requirement already satisfied: fsspec in c:\\users\\chari\\onedrive\\desktop\\keskia\\montoringsmarttraffic\\.venv\\lib\\site-packages (from torch>=1.8.0->ultralytics) (2023.12.2)\n",
      "Requirement already satisfied: colorama in c:\\users\\chari\\onedrive\\desktop\\keskia\\montoringsmarttraffic\\.venv\\lib\\site-packages (from tqdm>=4.64.0->ultralytics) (0.4.6)\n",
      "Requirement already satisfied: six in c:\\users\\chari\\onedrive\\desktop\\keskia\\montoringsmarttraffic\\.venv\\lib\\site-packages (from cycler>=0.10->matplotlib>=3.3.0->ultralytics) (1.16.0)\n",
      "Requirement already satisfied: MarkupSafe>=2.0 in c:\\users\\chari\\onedrive\\desktop\\keskia\\montoringsmarttraffic\\.venv\\lib\\site-packages (from jinja2->torch>=1.8.0->ultralytics) (2.1.4)\n",
      "Requirement already satisfied: mpmath>=0.19 in c:\\users\\chari\\onedrive\\desktop\\keskia\\montoringsmarttraffic\\.venv\\lib\\site-packages (from sympy->torch>=1.8.0->ultralytics) (1.3.0)\n",
      "Requirement already satisfied: deep-sort-realtime in c:\\users\\chari\\onedrive\\desktop\\keskia\\montoringsmarttraffic\\.venv\\lib\\site-packages (1.3.2)\n",
      "Requirement already satisfied: numpy in c:\\users\\chari\\onedrive\\desktop\\keskia\\montoringsmarttraffic\\.venv\\lib\\site-packages (from deep-sort-realtime) (1.26.3)\n",
      "Requirement already satisfied: scipy in c:\\users\\chari\\onedrive\\desktop\\keskia\\montoringsmarttraffic\\.venv\\lib\\site-packages (from deep-sort-realtime) (1.12.0)\n",
      "Requirement already satisfied: opencv-python in c:\\users\\chari\\onedrive\\desktop\\keskia\\montoringsmarttraffic\\.venv\\lib\\site-packages (from deep-sort-realtime) (4.7.0.72)\n"
     ]
    }
   ],
   "source": [
    "!pip install ultralytics\n",
    "!pip install deep-sort-realtime"
   ]
  },
  {
   "cell_type": "code",
   "execution_count": 5,
   "metadata": {},
   "outputs": [
    {
     "name": "stdout",
     "output_type": "stream",
     "text": [
      "Requirement already satisfied: torch in c:\\users\\chari\\onedrive\\desktop\\keskia\\montoringsmarttraffic\\.venv\\lib\\site-packages (2.1.2)\n",
      "Requirement already satisfied: torchvision in c:\\users\\chari\\onedrive\\desktop\\keskia\\montoringsmarttraffic\\.venv\\lib\\site-packages (0.16.2)\n",
      "Requirement already satisfied: torchaudio in c:\\users\\chari\\onedrive\\desktop\\keskia\\montoringsmarttraffic\\.venv\\lib\\site-packages (2.1.2)\n",
      "Requirement already satisfied: filelock in c:\\users\\chari\\onedrive\\desktop\\keskia\\montoringsmarttraffic\\.venv\\lib\\site-packages (from torch) (3.13.1)\n",
      "Requirement already satisfied: typing-extensions in c:\\users\\chari\\onedrive\\desktop\\keskia\\montoringsmarttraffic\\.venv\\lib\\site-packages (from torch) (4.9.0)\n",
      "Requirement already satisfied: sympy in c:\\users\\chari\\onedrive\\desktop\\keskia\\montoringsmarttraffic\\.venv\\lib\\site-packages (from torch) (1.12)\n",
      "Requirement already satisfied: networkx in c:\\users\\chari\\onedrive\\desktop\\keskia\\montoringsmarttraffic\\.venv\\lib\\site-packages (from torch) (3.2.1)\n",
      "Requirement already satisfied: jinja2 in c:\\users\\chari\\onedrive\\desktop\\keskia\\montoringsmarttraffic\\.venv\\lib\\site-packages (from torch) (3.1.3)\n",
      "Requirement already satisfied: fsspec in c:\\users\\chari\\onedrive\\desktop\\keskia\\montoringsmarttraffic\\.venv\\lib\\site-packages (from torch) (2023.12.2)\n",
      "Requirement already satisfied: numpy in c:\\users\\chari\\onedrive\\desktop\\keskia\\montoringsmarttraffic\\.venv\\lib\\site-packages (from torchvision) (1.26.3)\n",
      "Requirement already satisfied: requests in c:\\users\\chari\\onedrive\\desktop\\keskia\\montoringsmarttraffic\\.venv\\lib\\site-packages (from torchvision) (2.31.0)\n",
      "Requirement already satisfied: pillow!=8.3.*,>=5.3.0 in c:\\users\\chari\\onedrive\\desktop\\keskia\\montoringsmarttraffic\\.venv\\lib\\site-packages (from torchvision) (10.2.0)\n",
      "Requirement already satisfied: MarkupSafe>=2.0 in c:\\users\\chari\\onedrive\\desktop\\keskia\\montoringsmarttraffic\\.venv\\lib\\site-packages (from jinja2->torch) (2.1.4)\n",
      "Requirement already satisfied: charset-normalizer<4,>=2 in c:\\users\\chari\\onedrive\\desktop\\keskia\\montoringsmarttraffic\\.venv\\lib\\site-packages (from requests->torchvision) (3.3.2)\n",
      "Requirement already satisfied: idna<4,>=2.5 in c:\\users\\chari\\onedrive\\desktop\\keskia\\montoringsmarttraffic\\.venv\\lib\\site-packages (from requests->torchvision) (2.10)\n",
      "Requirement already satisfied: urllib3<3,>=1.21.1 in c:\\users\\chari\\onedrive\\desktop\\keskia\\montoringsmarttraffic\\.venv\\lib\\site-packages (from requests->torchvision) (2.1.0)\n",
      "Requirement already satisfied: certifi>=2017.4.17 in c:\\users\\chari\\onedrive\\desktop\\keskia\\montoringsmarttraffic\\.venv\\lib\\site-packages (from requests->torchvision) (2023.7.22)\n",
      "Requirement already satisfied: mpmath>=0.19 in c:\\users\\chari\\onedrive\\desktop\\keskia\\montoringsmarttraffic\\.venv\\lib\\site-packages (from sympy->torch) (1.3.0)\n",
      "Requirement already satisfied: opencv-python in c:\\users\\chari\\onedrive\\desktop\\keskia\\montoringsmarttraffic\\.venv\\lib\\site-packages (4.7.0.72)\n",
      "Requirement already satisfied: numpy>=1.21.2 in c:\\users\\chari\\onedrive\\desktop\\keskia\\montoringsmarttraffic\\.venv\\lib\\site-packages (from opencv-python) (1.26.3)\n"
     ]
    }
   ],
   "source": [
    "!pip install torch torchvision torchaudio\n",
    "!pip install opencv-python"
   ]
  },
  {
   "cell_type": "code",
   "execution_count": 7,
   "metadata": {},
   "outputs": [
    {
     "name": "stdout",
     "output_type": "stream",
     "text": [
      "Collecting helper\n",
      "  Downloading helper-2.5.0.tar.gz (18 kB)\n",
      "  Installing build dependencies: started\n",
      "  Installing build dependencies: finished with status 'done'\n",
      "  Getting requirements to build wheel: started\n",
      "  Getting requirements to build wheel: finished with status 'done'\n",
      "  Preparing metadata (pyproject.toml): started\n",
      "  Preparing metadata (pyproject.toml): finished with status 'done'\n",
      "Requirement already satisfied: pyyaml in c:\\users\\chari\\onedrive\\desktop\\keskia\\montoringsmarttraffic\\.venv\\lib\\site-packages (from helper) (6.0.1)\n",
      "Building wheels for collected packages: helper\n",
      "  Building wheel for helper (pyproject.toml): started\n",
      "  Building wheel for helper (pyproject.toml): finished with status 'done'\n",
      "  Created wheel for helper: filename=helper-2.5.0-py2.py3-none-any.whl size=19184 sha256=a8be1a79d2e701197b36b76a1544ffe0db6a01af171916ca0cbdeef02e77bda1\n",
      "  Stored in directory: c:\\users\\chari\\appdata\\local\\pip\\cache\\wheels\\8b\\ab\\a7\\06bcd4f2d89113bb7b0caaf5562aa209a27863d8cccb07a1bc\n",
      "Successfully built helper\n",
      "Installing collected packages: helper\n",
      "Successfully installed helper-2.5.0\n"
     ]
    }
   ],
   "source": [
    "!pip install helper"
   ]
  },
  {
   "cell_type": "code",
   "execution_count": 11,
   "metadata": {},
   "outputs": [
    {
     "ename": "ModuleNotFoundError",
     "evalue": "No module named 'grp'",
     "output_type": "error",
     "traceback": [
      "\u001b[1;31m---------------------------------------------------------------------------\u001b[0m",
      "\u001b[1;31mModuleNotFoundError\u001b[0m                       Traceback (most recent call last)",
      "Cell \u001b[1;32mIn[11], line 4\u001b[0m\n\u001b[0;32m      2\u001b[0m \u001b[38;5;28;01mfrom\u001b[39;00m \u001b[38;5;21;01multralytics\u001b[39;00m \u001b[38;5;28;01mimport\u001b[39;00m YOLO\n\u001b[0;32m      3\u001b[0m \u001b[38;5;28;01mimport\u001b[39;00m \u001b[38;5;21;01mcv2\u001b[39;00m\n\u001b[1;32m----> 4\u001b[0m \u001b[38;5;28;01mfrom\u001b[39;00m \u001b[38;5;21;01mhelper\u001b[39;00m \u001b[38;5;28;01mimport\u001b[39;00m create_video_writer\n\u001b[0;32m      7\u001b[0m \u001b[38;5;66;03m# define some constants\u001b[39;00m\n\u001b[0;32m      8\u001b[0m CONFIDENCE_THRESHOLD \u001b[38;5;241m=\u001b[39m \u001b[38;5;241m0.8\u001b[39m\n",
      "File \u001b[1;32mc:\\Users\\chari\\OneDrive\\Desktop\\KESKIA\\MontoringSmartTraffic\\.venv\\Lib\\site-packages\\helper\\__init__.py:134\u001b[0m\n\u001b[0;32m      1\u001b[0m \u001b[38;5;124;03m\"\"\"\u001b[39;00m\n\u001b[0;32m      2\u001b[0m \u001b[38;5;124;03m....  ......        ....  .. .                  ....         .\u001b[39;00m\n\u001b[0;32m      3\u001b[0m \u001b[38;5;124;03m.... .......          .   ....                           ....       .        ..\u001b[39;00m\n\u001b[1;32m   (...)\u001b[0m\n\u001b[0;32m    130\u001b[0m \u001b[38;5;124;03m :8=+.,?$:.......................................  .... .............    ..,,=\u001b[39;00m\n\u001b[0;32m    131\u001b[0m \u001b[38;5;124;03m\"\"\"\u001b[39;00m\n\u001b[0;32m    132\u001b[0m \u001b[38;5;28;01mimport\u001b[39;00m \u001b[38;5;21;01msys\u001b[39;00m\n\u001b[1;32m--> 134\u001b[0m \u001b[38;5;28;01mfrom\u001b[39;00m \u001b[38;5;21;01mhelper\u001b[39;00m \u001b[38;5;28;01mimport\u001b[39;00m parser, unix \u001b[38;5;28;01mas\u001b[39;00m platform\n\u001b[0;32m    136\u001b[0m __version__ \u001b[38;5;241m=\u001b[39m \u001b[38;5;124m'\u001b[39m\u001b[38;5;124m2.5.0\u001b[39m\u001b[38;5;124m'\u001b[39m\n\u001b[0;32m    137\u001b[0m version \u001b[38;5;241m=\u001b[39m __version__\n",
      "File \u001b[1;32mc:\\Users\\chari\\OneDrive\\Desktop\\KESKIA\\MontoringSmartTraffic\\.venv\\Lib\\site-packages\\helper\\unix.py:7\u001b[0m\n\u001b[0;32m      5\u001b[0m \u001b[38;5;28;01mimport\u001b[39;00m \u001b[38;5;21;01matexit\u001b[39;00m\n\u001b[0;32m      6\u001b[0m \u001b[38;5;28;01mimport\u001b[39;00m \u001b[38;5;21;01mdatetime\u001b[39;00m\n\u001b[1;32m----> 7\u001b[0m \u001b[38;5;28;01mimport\u001b[39;00m \u001b[38;5;21;01mgrp\u001b[39;00m\n\u001b[0;32m      8\u001b[0m \u001b[38;5;28;01mimport\u001b[39;00m \u001b[38;5;21;01mlogging\u001b[39;00m\n\u001b[0;32m      9\u001b[0m \u001b[38;5;28;01mimport\u001b[39;00m \u001b[38;5;21;01mos\u001b[39;00m\n",
      "\u001b[1;31mModuleNotFoundError\u001b[0m: No module named 'grp'"
     ]
    }
   ],
   "source": [
    "import datetime\n",
    "from ultralytics import YOLO\n",
    "import cv2\n",
    "from helper import create_video_writer\n",
    "\n",
    "\n",
    "# define some constants\n",
    "CONFIDENCE_THRESHOLD = 0.8\n",
    "GREEN = (0, 255, 0)\n",
    "\n",
    "# initialize the video capture object\n",
    "video_cap = cv2.VideoCapture('media/in/vid.avi')\n",
    "# initialize the video writer object\n",
    "writer = create_video_writer(video_cap, \"output.mp4\")\n",
    "\n",
    "# load model\n",
    "model = YOLO('best.pt')\n",
    "\n",
    "# set model parameters\n",
    "model.overrides['conf'] = 0.25  # NMS confidence threshold\n",
    "model.overrides['iou'] = 0.45  # NMS IoU threshold\n",
    "model.overrides['agnostic_nms'] = False  # NMS class-agnostic\n",
    "model.overrides['max_det'] = 1000  # maximum number of detections per image"
   ]
  }
 ],
 "metadata": {
  "kernelspec": {
   "display_name": ".venv",
   "language": "python",
   "name": "python3"
  },
  "language_info": {
   "codemirror_mode": {
    "name": "ipython",
    "version": 3
   },
   "file_extension": ".py",
   "mimetype": "text/x-python",
   "name": "python",
   "nbconvert_exporter": "python",
   "pygments_lexer": "ipython3",
   "version": "3.11.0"
  }
 },
 "nbformat": 4,
 "nbformat_minor": 2
}
