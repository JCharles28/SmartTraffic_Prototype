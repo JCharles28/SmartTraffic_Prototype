{
 "cells": [
  {
   "cell_type": "markdown",
   "metadata": {},
   "source": [
    "## **Démo** : **Smart Traffic**"
   ]
  },
  {
   "cell_type": "markdown",
   "metadata": {},
   "source": [
    "---"
   ]
  },
  {
   "cell_type": "markdown",
   "metadata": {},
   "source": [
    "### **Required main libraries installations**"
   ]
  },
  {
   "cell_type": "code",
   "execution_count": 60,
   "metadata": {},
   "outputs": [
    {
     "name": "stdout",
     "output_type": "stream",
     "text": [
      "Python 3.11.0\n"
     ]
    }
   ],
   "source": [
    "!python --version"
   ]
  },
  {
   "cell_type": "code",
   "execution_count": 61,
   "metadata": {},
   "outputs": [
    {
     "name": "stdout",
     "output_type": "stream",
     "text": [
      "Requirement already satisfied: pip in c:\\users\\chari\\onedrive\\desktop\\keskia\\montoringsmarttraffic\\.venv\\lib\\site-packages (23.3.2)\n",
      "Requirement already satisfied: ultralyticsplus in c:\\users\\chari\\onedrive\\desktop\\keskia\\montoringsmarttraffic\\.venv\\lib\\site-packages (0.0.29)\n",
      "Requirement already satisfied: huggingface-hub>=0.12.0 in c:\\users\\chari\\onedrive\\desktop\\keskia\\montoringsmarttraffic\\.venv\\lib\\site-packages (from ultralyticsplus) (0.20.3)\n",
      "Requirement already satisfied: fire in c:\\users\\chari\\onedrive\\desktop\\keskia\\montoringsmarttraffic\\.venv\\lib\\site-packages (from ultralyticsplus) (0.5.0)\n",
      "Requirement already satisfied: ultralytics<8.1.0,>=8.0.225 in c:\\users\\chari\\onedrive\\desktop\\keskia\\montoringsmarttraffic\\.venv\\lib\\site-packages (from ultralyticsplus) (8.0.239)\n",
      "Requirement already satisfied: sahi<0.12.0,>=0.11.11 in c:\\users\\chari\\onedrive\\desktop\\keskia\\montoringsmarttraffic\\.venv\\lib\\site-packages (from ultralyticsplus) (0.11.15)\n",
      "Requirement already satisfied: pandas in c:\\users\\chari\\onedrive\\desktop\\keskia\\montoringsmarttraffic\\.venv\\lib\\site-packages (from ultralyticsplus) (2.2.0)\n",
      "Requirement already satisfied: roboflow>=0.2.32 in c:\\users\\chari\\onedrive\\desktop\\keskia\\montoringsmarttraffic\\.venv\\lib\\site-packages (from ultralyticsplus) (1.1.16)\n",
      "Requirement already satisfied: protobuf<3.21,>=3.20 in c:\\users\\chari\\onedrive\\desktop\\keskia\\montoringsmarttraffic\\.venv\\lib\\site-packages (from ultralyticsplus) (3.20.3)\n",
      "Requirement already satisfied: filelock in c:\\users\\chari\\onedrive\\desktop\\keskia\\montoringsmarttraffic\\.venv\\lib\\site-packages (from huggingface-hub>=0.12.0->ultralyticsplus) (3.13.1)\n",
      "Requirement already satisfied: fsspec>=2023.5.0 in c:\\users\\chari\\onedrive\\desktop\\keskia\\montoringsmarttraffic\\.venv\\lib\\site-packages (from huggingface-hub>=0.12.0->ultralyticsplus) (2023.12.2)\n",
      "Requirement already satisfied: requests in c:\\users\\chari\\onedrive\\desktop\\keskia\\montoringsmarttraffic\\.venv\\lib\\site-packages (from huggingface-hub>=0.12.0->ultralyticsplus) (2.31.0)\n",
      "Requirement already satisfied: tqdm>=4.42.1 in c:\\users\\chari\\onedrive\\desktop\\keskia\\montoringsmarttraffic\\.venv\\lib\\site-packages (from huggingface-hub>=0.12.0->ultralyticsplus) (4.66.1)\n",
      "Requirement already satisfied: pyyaml>=5.1 in c:\\users\\chari\\onedrive\\desktop\\keskia\\montoringsmarttraffic\\.venv\\lib\\site-packages (from huggingface-hub>=0.12.0->ultralyticsplus) (6.0.1)\n",
      "Requirement already satisfied: typing-extensions>=3.7.4.3 in c:\\users\\chari\\onedrive\\desktop\\keskia\\montoringsmarttraffic\\.venv\\lib\\site-packages (from huggingface-hub>=0.12.0->ultralyticsplus) (4.9.0)\n",
      "Requirement already satisfied: packaging>=20.9 in c:\\users\\chari\\onedrive\\desktop\\keskia\\montoringsmarttraffic\\.venv\\lib\\site-packages (from huggingface-hub>=0.12.0->ultralyticsplus) (23.2)\n",
      "Requirement already satisfied: certifi==2023.7.22 in c:\\users\\chari\\onedrive\\desktop\\keskia\\montoringsmarttraffic\\.venv\\lib\\site-packages (from roboflow>=0.2.32->ultralyticsplus) (2023.7.22)\n",
      "Requirement already satisfied: chardet==4.0.0 in c:\\users\\chari\\onedrive\\desktop\\keskia\\montoringsmarttraffic\\.venv\\lib\\site-packages (from roboflow>=0.2.32->ultralyticsplus) (4.0.0)\n",
      "Requirement already satisfied: cycler==0.10.0 in c:\\users\\chari\\onedrive\\desktop\\keskia\\montoringsmarttraffic\\.venv\\lib\\site-packages (from roboflow>=0.2.32->ultralyticsplus) (0.10.0)\n",
      "Requirement already satisfied: idna==2.10 in c:\\users\\chari\\onedrive\\desktop\\keskia\\montoringsmarttraffic\\.venv\\lib\\site-packages (from roboflow>=0.2.32->ultralyticsplus) (2.10)\n",
      "Requirement already satisfied: kiwisolver>=1.3.1 in c:\\users\\chari\\onedrive\\desktop\\keskia\\montoringsmarttraffic\\.venv\\lib\\site-packages (from roboflow>=0.2.32->ultralyticsplus) (1.4.5)\n",
      "Requirement already satisfied: matplotlib in c:\\users\\chari\\onedrive\\desktop\\keskia\\montoringsmarttraffic\\.venv\\lib\\site-packages (from roboflow>=0.2.32->ultralyticsplus) (3.8.2)\n",
      "Requirement already satisfied: numpy>=1.18.5 in c:\\users\\chari\\onedrive\\desktop\\keskia\\montoringsmarttraffic\\.venv\\lib\\site-packages (from roboflow>=0.2.32->ultralyticsplus) (1.26.3)\n",
      "Requirement already satisfied: opencv-python-headless==4.8.0.74 in c:\\users\\chari\\onedrive\\desktop\\keskia\\montoringsmarttraffic\\.venv\\lib\\site-packages (from roboflow>=0.2.32->ultralyticsplus) (4.8.0.74)\n",
      "Requirement already satisfied: Pillow>=7.1.2 in c:\\users\\chari\\onedrive\\desktop\\keskia\\montoringsmarttraffic\\.venv\\lib\\site-packages (from roboflow>=0.2.32->ultralyticsplus) (10.2.0)\n",
      "Requirement already satisfied: python-dateutil in c:\\users\\chari\\onedrive\\desktop\\keskia\\montoringsmarttraffic\\.venv\\lib\\site-packages (from roboflow>=0.2.32->ultralyticsplus) (2.8.2)\n",
      "Requirement already satisfied: python-dotenv in c:\\users\\chari\\onedrive\\desktop\\keskia\\montoringsmarttraffic\\.venv\\lib\\site-packages (from roboflow>=0.2.32->ultralyticsplus) (1.0.0)\n",
      "Requirement already satisfied: six in c:\\users\\chari\\onedrive\\desktop\\keskia\\montoringsmarttraffic\\.venv\\lib\\site-packages (from roboflow>=0.2.32->ultralyticsplus) (1.16.0)\n",
      "Requirement already satisfied: supervision in c:\\users\\chari\\onedrive\\desktop\\keskia\\montoringsmarttraffic\\.venv\\lib\\site-packages (from roboflow>=0.2.32->ultralyticsplus) (0.17.1)\n",
      "Requirement already satisfied: urllib3>=1.26.6 in c:\\users\\chari\\onedrive\\desktop\\keskia\\montoringsmarttraffic\\.venv\\lib\\site-packages (from roboflow>=0.2.32->ultralyticsplus) (2.1.0)\n",
      "Requirement already satisfied: requests-toolbelt in c:\\users\\chari\\onedrive\\desktop\\keskia\\montoringsmarttraffic\\.venv\\lib\\site-packages (from roboflow>=0.2.32->ultralyticsplus) (1.0.0)\n",
      "Requirement already satisfied: python-magic in c:\\users\\chari\\onedrive\\desktop\\keskia\\montoringsmarttraffic\\.venv\\lib\\site-packages (from roboflow>=0.2.32->ultralyticsplus) (0.4.27)\n",
      "Requirement already satisfied: opencv-python<=4.8 in c:\\users\\chari\\onedrive\\desktop\\keskia\\montoringsmarttraffic\\.venv\\lib\\site-packages (from sahi<0.12.0,>=0.11.11->ultralyticsplus) (4.7.0.72)\n",
      "Requirement already satisfied: shapely>=1.8.0 in c:\\users\\chari\\onedrive\\desktop\\keskia\\montoringsmarttraffic\\.venv\\lib\\site-packages (from sahi<0.12.0,>=0.11.11->ultralyticsplus) (2.0.2)\n",
      "Requirement already satisfied: pybboxes==0.1.6 in c:\\users\\chari\\onedrive\\desktop\\keskia\\montoringsmarttraffic\\.venv\\lib\\site-packages (from sahi<0.12.0,>=0.11.11->ultralyticsplus) (0.1.6)\n",
      "Requirement already satisfied: terminaltables in c:\\users\\chari\\onedrive\\desktop\\keskia\\montoringsmarttraffic\\.venv\\lib\\site-packages (from sahi<0.12.0,>=0.11.11->ultralyticsplus) (3.1.10)\n",
      "Requirement already satisfied: click in c:\\users\\chari\\onedrive\\desktop\\keskia\\montoringsmarttraffic\\.venv\\lib\\site-packages (from sahi<0.12.0,>=0.11.11->ultralyticsplus) (8.1.7)\n",
      "Requirement already satisfied: scipy>=1.4.1 in c:\\users\\chari\\onedrive\\desktop\\keskia\\montoringsmarttraffic\\.venv\\lib\\site-packages (from ultralytics<8.1.0,>=8.0.225->ultralyticsplus) (1.12.0)\n",
      "Requirement already satisfied: torch>=1.8.0 in c:\\users\\chari\\onedrive\\desktop\\keskia\\montoringsmarttraffic\\.venv\\lib\\site-packages (from ultralytics<8.1.0,>=8.0.225->ultralyticsplus) (2.1.2)\n",
      "Requirement already satisfied: torchvision>=0.9.0 in c:\\users\\chari\\onedrive\\desktop\\keskia\\montoringsmarttraffic\\.venv\\lib\\site-packages (from ultralytics<8.1.0,>=8.0.225->ultralyticsplus) (0.16.2)\n",
      "Requirement already satisfied: psutil in c:\\users\\chari\\onedrive\\desktop\\keskia\\montoringsmarttraffic\\.venv\\lib\\site-packages (from ultralytics<8.1.0,>=8.0.225->ultralyticsplus) (5.9.8)\n",
      "Requirement already satisfied: py-cpuinfo in c:\\users\\chari\\onedrive\\desktop\\keskia\\montoringsmarttraffic\\.venv\\lib\\site-packages (from ultralytics<8.1.0,>=8.0.225->ultralyticsplus) (9.0.0)\n",
      "Requirement already satisfied: thop>=0.1.1 in c:\\users\\chari\\onedrive\\desktop\\keskia\\montoringsmarttraffic\\.venv\\lib\\site-packages (from ultralytics<8.1.0,>=8.0.225->ultralyticsplus) (0.1.1.post2209072238)\n",
      "Requirement already satisfied: seaborn>=0.11.0 in c:\\users\\chari\\onedrive\\desktop\\keskia\\montoringsmarttraffic\\.venv\\lib\\site-packages (from ultralytics<8.1.0,>=8.0.225->ultralyticsplus) (0.13.1)\n",
      "Requirement already satisfied: hub-sdk>=0.0.2 in c:\\users\\chari\\onedrive\\desktop\\keskia\\montoringsmarttraffic\\.venv\\lib\\site-packages (from ultralytics<8.1.0,>=8.0.225->ultralyticsplus) (0.0.3)\n",
      "Requirement already satisfied: pytz>=2020.1 in c:\\users\\chari\\onedrive\\desktop\\keskia\\montoringsmarttraffic\\.venv\\lib\\site-packages (from pandas->ultralyticsplus) (2023.3.post1)\n",
      "Requirement already satisfied: tzdata>=2022.7 in c:\\users\\chari\\onedrive\\desktop\\keskia\\montoringsmarttraffic\\.venv\\lib\\site-packages (from pandas->ultralyticsplus) (2023.4)\n",
      "Requirement already satisfied: termcolor in c:\\users\\chari\\onedrive\\desktop\\keskia\\montoringsmarttraffic\\.venv\\lib\\site-packages (from fire->ultralyticsplus) (2.4.0)\n",
      "Requirement already satisfied: contourpy>=1.0.1 in c:\\users\\chari\\onedrive\\desktop\\keskia\\montoringsmarttraffic\\.venv\\lib\\site-packages (from matplotlib->roboflow>=0.2.32->ultralyticsplus) (1.2.0)\n",
      "Requirement already satisfied: fonttools>=4.22.0 in c:\\users\\chari\\onedrive\\desktop\\keskia\\montoringsmarttraffic\\.venv\\lib\\site-packages (from matplotlib->roboflow>=0.2.32->ultralyticsplus) (4.47.2)\n",
      "Requirement already satisfied: pyparsing>=2.3.1 in c:\\users\\chari\\onedrive\\desktop\\keskia\\montoringsmarttraffic\\.venv\\lib\\site-packages (from matplotlib->roboflow>=0.2.32->ultralyticsplus) (3.1.1)\n",
      "Requirement already satisfied: charset-normalizer<4,>=2 in c:\\users\\chari\\onedrive\\desktop\\keskia\\montoringsmarttraffic\\.venv\\lib\\site-packages (from requests->huggingface-hub>=0.12.0->ultralyticsplus) (3.3.2)\n",
      "Requirement already satisfied: sympy in c:\\users\\chari\\onedrive\\desktop\\keskia\\montoringsmarttraffic\\.venv\\lib\\site-packages (from torch>=1.8.0->ultralytics<8.1.0,>=8.0.225->ultralyticsplus) (1.12)\n",
      "Requirement already satisfied: networkx in c:\\users\\chari\\onedrive\\desktop\\keskia\\montoringsmarttraffic\\.venv\\lib\\site-packages (from torch>=1.8.0->ultralytics<8.1.0,>=8.0.225->ultralyticsplus) (3.2.1)\n",
      "Requirement already satisfied: jinja2 in c:\\users\\chari\\onedrive\\desktop\\keskia\\montoringsmarttraffic\\.venv\\lib\\site-packages (from torch>=1.8.0->ultralytics<8.1.0,>=8.0.225->ultralyticsplus) (3.1.3)\n",
      "Requirement already satisfied: colorama in c:\\users\\chari\\onedrive\\desktop\\keskia\\montoringsmarttraffic\\.venv\\lib\\site-packages (from tqdm>=4.42.1->huggingface-hub>=0.12.0->ultralyticsplus) (0.4.6)\n",
      "Requirement already satisfied: MarkupSafe>=2.0 in c:\\users\\chari\\onedrive\\desktop\\keskia\\montoringsmarttraffic\\.venv\\lib\\site-packages (from jinja2->torch>=1.8.0->ultralytics<8.1.0,>=8.0.225->ultralyticsplus) (2.1.4)\n",
      "Requirement already satisfied: mpmath>=0.19 in c:\\users\\chari\\onedrive\\desktop\\keskia\\montoringsmarttraffic\\.venv\\lib\\site-packages (from sympy->torch>=1.8.0->ultralytics<8.1.0,>=8.0.225->ultralyticsplus) (1.3.0)\n",
      "Requirement already satisfied: ultralyticsplus in c:\\users\\chari\\onedrive\\desktop\\keskia\\montoringsmarttraffic\\.venv\\lib\\site-packages (0.0.29)\n",
      "Requirement already satisfied: huggingface-hub>=0.12.0 in c:\\users\\chari\\onedrive\\desktop\\keskia\\montoringsmarttraffic\\.venv\\lib\\site-packages (from ultralyticsplus) (0.20.3)\n",
      "Requirement already satisfied: fire in c:\\users\\chari\\onedrive\\desktop\\keskia\\montoringsmarttraffic\\.venv\\lib\\site-packages (from ultralyticsplus) (0.5.0)\n",
      "Requirement already satisfied: ultralytics<8.1.0,>=8.0.225 in c:\\users\\chari\\onedrive\\desktop\\keskia\\montoringsmarttraffic\\.venv\\lib\\site-packages (from ultralyticsplus) (8.0.239)\n",
      "Requirement already satisfied: sahi<0.12.0,>=0.11.11 in c:\\users\\chari\\onedrive\\desktop\\keskia\\montoringsmarttraffic\\.venv\\lib\\site-packages (from ultralyticsplus) (0.11.15)\n",
      "Requirement already satisfied: pandas in c:\\users\\chari\\onedrive\\desktop\\keskia\\montoringsmarttraffic\\.venv\\lib\\site-packages (from ultralyticsplus) (2.2.0)\n",
      "Requirement already satisfied: roboflow>=0.2.32 in c:\\users\\chari\\onedrive\\desktop\\keskia\\montoringsmarttraffic\\.venv\\lib\\site-packages (from ultralyticsplus) (1.1.16)\n",
      "Requirement already satisfied: protobuf<3.21,>=3.20 in c:\\users\\chari\\onedrive\\desktop\\keskia\\montoringsmarttraffic\\.venv\\lib\\site-packages (from ultralyticsplus) (3.20.3)\n",
      "Requirement already satisfied: filelock in c:\\users\\chari\\onedrive\\desktop\\keskia\\montoringsmarttraffic\\.venv\\lib\\site-packages (from huggingface-hub>=0.12.0->ultralyticsplus) (3.13.1)\n",
      "Requirement already satisfied: fsspec>=2023.5.0 in c:\\users\\chari\\onedrive\\desktop\\keskia\\montoringsmarttraffic\\.venv\\lib\\site-packages (from huggingface-hub>=0.12.0->ultralyticsplus) (2023.12.2)\n",
      "Requirement already satisfied: requests in c:\\users\\chari\\onedrive\\desktop\\keskia\\montoringsmarttraffic\\.venv\\lib\\site-packages (from huggingface-hub>=0.12.0->ultralyticsplus) (2.31.0)\n",
      "Requirement already satisfied: tqdm>=4.42.1 in c:\\users\\chari\\onedrive\\desktop\\keskia\\montoringsmarttraffic\\.venv\\lib\\site-packages (from huggingface-hub>=0.12.0->ultralyticsplus) (4.66.1)\n",
      "Requirement already satisfied: pyyaml>=5.1 in c:\\users\\chari\\onedrive\\desktop\\keskia\\montoringsmarttraffic\\.venv\\lib\\site-packages (from huggingface-hub>=0.12.0->ultralyticsplus) (6.0.1)\n",
      "Requirement already satisfied: typing-extensions>=3.7.4.3 in c:\\users\\chari\\onedrive\\desktop\\keskia\\montoringsmarttraffic\\.venv\\lib\\site-packages (from huggingface-hub>=0.12.0->ultralyticsplus) (4.9.0)\n",
      "Requirement already satisfied: packaging>=20.9 in c:\\users\\chari\\onedrive\\desktop\\keskia\\montoringsmarttraffic\\.venv\\lib\\site-packages (from huggingface-hub>=0.12.0->ultralyticsplus) (23.2)\n",
      "Requirement already satisfied: certifi==2023.7.22 in c:\\users\\chari\\onedrive\\desktop\\keskia\\montoringsmarttraffic\\.venv\\lib\\site-packages (from roboflow>=0.2.32->ultralyticsplus) (2023.7.22)\n",
      "Requirement already satisfied: chardet==4.0.0 in c:\\users\\chari\\onedrive\\desktop\\keskia\\montoringsmarttraffic\\.venv\\lib\\site-packages (from roboflow>=0.2.32->ultralyticsplus) (4.0.0)\n",
      "Requirement already satisfied: cycler==0.10.0 in c:\\users\\chari\\onedrive\\desktop\\keskia\\montoringsmarttraffic\\.venv\\lib\\site-packages (from roboflow>=0.2.32->ultralyticsplus) (0.10.0)\n",
      "Requirement already satisfied: idna==2.10 in c:\\users\\chari\\onedrive\\desktop\\keskia\\montoringsmarttraffic\\.venv\\lib\\site-packages (from roboflow>=0.2.32->ultralyticsplus) (2.10)\n",
      "Requirement already satisfied: kiwisolver>=1.3.1 in c:\\users\\chari\\onedrive\\desktop\\keskia\\montoringsmarttraffic\\.venv\\lib\\site-packages (from roboflow>=0.2.32->ultralyticsplus) (1.4.5)\n",
      "Requirement already satisfied: matplotlib in c:\\users\\chari\\onedrive\\desktop\\keskia\\montoringsmarttraffic\\.venv\\lib\\site-packages (from roboflow>=0.2.32->ultralyticsplus) (3.8.2)\n",
      "Requirement already satisfied: numpy>=1.18.5 in c:\\users\\chari\\onedrive\\desktop\\keskia\\montoringsmarttraffic\\.venv\\lib\\site-packages (from roboflow>=0.2.32->ultralyticsplus) (1.26.3)\n",
      "Requirement already satisfied: opencv-python-headless==4.8.0.74 in c:\\users\\chari\\onedrive\\desktop\\keskia\\montoringsmarttraffic\\.venv\\lib\\site-packages (from roboflow>=0.2.32->ultralyticsplus) (4.8.0.74)\n",
      "Requirement already satisfied: Pillow>=7.1.2 in c:\\users\\chari\\onedrive\\desktop\\keskia\\montoringsmarttraffic\\.venv\\lib\\site-packages (from roboflow>=0.2.32->ultralyticsplus) (10.2.0)\n",
      "Requirement already satisfied: python-dateutil in c:\\users\\chari\\onedrive\\desktop\\keskia\\montoringsmarttraffic\\.venv\\lib\\site-packages (from roboflow>=0.2.32->ultralyticsplus) (2.8.2)\n",
      "Requirement already satisfied: python-dotenv in c:\\users\\chari\\onedrive\\desktop\\keskia\\montoringsmarttraffic\\.venv\\lib\\site-packages (from roboflow>=0.2.32->ultralyticsplus) (1.0.0)\n",
      "Requirement already satisfied: six in c:\\users\\chari\\onedrive\\desktop\\keskia\\montoringsmarttraffic\\.venv\\lib\\site-packages (from roboflow>=0.2.32->ultralyticsplus) (1.16.0)\n",
      "Requirement already satisfied: supervision in c:\\users\\chari\\onedrive\\desktop\\keskia\\montoringsmarttraffic\\.venv\\lib\\site-packages (from roboflow>=0.2.32->ultralyticsplus) (0.17.1)\n",
      "Requirement already satisfied: urllib3>=1.26.6 in c:\\users\\chari\\onedrive\\desktop\\keskia\\montoringsmarttraffic\\.venv\\lib\\site-packages (from roboflow>=0.2.32->ultralyticsplus) (2.1.0)\n",
      "Requirement already satisfied: requests-toolbelt in c:\\users\\chari\\onedrive\\desktop\\keskia\\montoringsmarttraffic\\.venv\\lib\\site-packages (from roboflow>=0.2.32->ultralyticsplus) (1.0.0)\n",
      "Requirement already satisfied: python-magic in c:\\users\\chari\\onedrive\\desktop\\keskia\\montoringsmarttraffic\\.venv\\lib\\site-packages (from roboflow>=0.2.32->ultralyticsplus) (0.4.27)\n",
      "Requirement already satisfied: opencv-python<=4.8 in c:\\users\\chari\\onedrive\\desktop\\keskia\\montoringsmarttraffic\\.venv\\lib\\site-packages (from sahi<0.12.0,>=0.11.11->ultralyticsplus) (4.7.0.72)\n",
      "Requirement already satisfied: shapely>=1.8.0 in c:\\users\\chari\\onedrive\\desktop\\keskia\\montoringsmarttraffic\\.venv\\lib\\site-packages (from sahi<0.12.0,>=0.11.11->ultralyticsplus) (2.0.2)\n",
      "Requirement already satisfied: pybboxes==0.1.6 in c:\\users\\chari\\onedrive\\desktop\\keskia\\montoringsmarttraffic\\.venv\\lib\\site-packages (from sahi<0.12.0,>=0.11.11->ultralyticsplus) (0.1.6)\n",
      "Requirement already satisfied: terminaltables in c:\\users\\chari\\onedrive\\desktop\\keskia\\montoringsmarttraffic\\.venv\\lib\\site-packages (from sahi<0.12.0,>=0.11.11->ultralyticsplus) (3.1.10)\n",
      "Requirement already satisfied: click in c:\\users\\chari\\onedrive\\desktop\\keskia\\montoringsmarttraffic\\.venv\\lib\\site-packages (from sahi<0.12.0,>=0.11.11->ultralyticsplus) (8.1.7)\n",
      "Requirement already satisfied: scipy>=1.4.1 in c:\\users\\chari\\onedrive\\desktop\\keskia\\montoringsmarttraffic\\.venv\\lib\\site-packages (from ultralytics<8.1.0,>=8.0.225->ultralyticsplus) (1.12.0)\n",
      "Requirement already satisfied: torch>=1.8.0 in c:\\users\\chari\\onedrive\\desktop\\keskia\\montoringsmarttraffic\\.venv\\lib\\site-packages (from ultralytics<8.1.0,>=8.0.225->ultralyticsplus) (2.1.2)\n",
      "Requirement already satisfied: torchvision>=0.9.0 in c:\\users\\chari\\onedrive\\desktop\\keskia\\montoringsmarttraffic\\.venv\\lib\\site-packages (from ultralytics<8.1.0,>=8.0.225->ultralyticsplus) (0.16.2)\n",
      "Requirement already satisfied: psutil in c:\\users\\chari\\onedrive\\desktop\\keskia\\montoringsmarttraffic\\.venv\\lib\\site-packages (from ultralytics<8.1.0,>=8.0.225->ultralyticsplus) (5.9.8)\n",
      "Requirement already satisfied: py-cpuinfo in c:\\users\\chari\\onedrive\\desktop\\keskia\\montoringsmarttraffic\\.venv\\lib\\site-packages (from ultralytics<8.1.0,>=8.0.225->ultralyticsplus) (9.0.0)\n",
      "Requirement already satisfied: thop>=0.1.1 in c:\\users\\chari\\onedrive\\desktop\\keskia\\montoringsmarttraffic\\.venv\\lib\\site-packages (from ultralytics<8.1.0,>=8.0.225->ultralyticsplus) (0.1.1.post2209072238)\n",
      "Requirement already satisfied: seaborn>=0.11.0 in c:\\users\\chari\\onedrive\\desktop\\keskia\\montoringsmarttraffic\\.venv\\lib\\site-packages (from ultralytics<8.1.0,>=8.0.225->ultralyticsplus) (0.13.1)\n",
      "Requirement already satisfied: hub-sdk>=0.0.2 in c:\\users\\chari\\onedrive\\desktop\\keskia\\montoringsmarttraffic\\.venv\\lib\\site-packages (from ultralytics<8.1.0,>=8.0.225->ultralyticsplus) (0.0.3)\n",
      "Requirement already satisfied: pytz>=2020.1 in c:\\users\\chari\\onedrive\\desktop\\keskia\\montoringsmarttraffic\\.venv\\lib\\site-packages (from pandas->ultralyticsplus) (2023.3.post1)\n",
      "Requirement already satisfied: tzdata>=2022.7 in c:\\users\\chari\\onedrive\\desktop\\keskia\\montoringsmarttraffic\\.venv\\lib\\site-packages (from pandas->ultralyticsplus) (2023.4)\n",
      "Requirement already satisfied: termcolor in c:\\users\\chari\\onedrive\\desktop\\keskia\\montoringsmarttraffic\\.venv\\lib\\site-packages (from fire->ultralyticsplus) (2.4.0)\n",
      "Requirement already satisfied: contourpy>=1.0.1 in c:\\users\\chari\\onedrive\\desktop\\keskia\\montoringsmarttraffic\\.venv\\lib\\site-packages (from matplotlib->roboflow>=0.2.32->ultralyticsplus) (1.2.0)\n",
      "Requirement already satisfied: fonttools>=4.22.0 in c:\\users\\chari\\onedrive\\desktop\\keskia\\montoringsmarttraffic\\.venv\\lib\\site-packages (from matplotlib->roboflow>=0.2.32->ultralyticsplus) (4.47.2)\n",
      "Requirement already satisfied: pyparsing>=2.3.1 in c:\\users\\chari\\onedrive\\desktop\\keskia\\montoringsmarttraffic\\.venv\\lib\\site-packages (from matplotlib->roboflow>=0.2.32->ultralyticsplus) (3.1.1)\n",
      "Requirement already satisfied: charset-normalizer<4,>=2 in c:\\users\\chari\\onedrive\\desktop\\keskia\\montoringsmarttraffic\\.venv\\lib\\site-packages (from requests->huggingface-hub>=0.12.0->ultralyticsplus) (3.3.2)\n",
      "Requirement already satisfied: sympy in c:\\users\\chari\\onedrive\\desktop\\keskia\\montoringsmarttraffic\\.venv\\lib\\site-packages (from torch>=1.8.0->ultralytics<8.1.0,>=8.0.225->ultralyticsplus) (1.12)\n",
      "Requirement already satisfied: networkx in c:\\users\\chari\\onedrive\\desktop\\keskia\\montoringsmarttraffic\\.venv\\lib\\site-packages (from torch>=1.8.0->ultralytics<8.1.0,>=8.0.225->ultralyticsplus) (3.2.1)\n",
      "Requirement already satisfied: jinja2 in c:\\users\\chari\\onedrive\\desktop\\keskia\\montoringsmarttraffic\\.venv\\lib\\site-packages (from torch>=1.8.0->ultralytics<8.1.0,>=8.0.225->ultralyticsplus) (3.1.3)\n",
      "Requirement already satisfied: colorama in c:\\users\\chari\\onedrive\\desktop\\keskia\\montoringsmarttraffic\\.venv\\lib\\site-packages (from tqdm>=4.42.1->huggingface-hub>=0.12.0->ultralyticsplus) (0.4.6)\n",
      "Requirement already satisfied: MarkupSafe>=2.0 in c:\\users\\chari\\onedrive\\desktop\\keskia\\montoringsmarttraffic\\.venv\\lib\\site-packages (from jinja2->torch>=1.8.0->ultralytics<8.1.0,>=8.0.225->ultralyticsplus) (2.1.4)\n",
      "Requirement already satisfied: mpmath>=0.19 in c:\\users\\chari\\onedrive\\desktop\\keskia\\montoringsmarttraffic\\.venv\\lib\\site-packages (from sympy->torch>=1.8.0->ultralytics<8.1.0,>=8.0.225->ultralyticsplus) (1.3.0)\n",
      "Requirement already satisfied: ultralytics in c:\\users\\chari\\onedrive\\desktop\\keskia\\montoringsmarttraffic\\.venv\\lib\\site-packages (8.0.239)\n",
      "Requirement already satisfied: matplotlib>=3.3.0 in c:\\users\\chari\\onedrive\\desktop\\keskia\\montoringsmarttraffic\\.venv\\lib\\site-packages (from ultralytics) (3.8.2)\n",
      "Requirement already satisfied: numpy>=1.22.2 in c:\\users\\chari\\onedrive\\desktop\\keskia\\montoringsmarttraffic\\.venv\\lib\\site-packages (from ultralytics) (1.26.3)\n",
      "Requirement already satisfied: opencv-python>=4.6.0 in c:\\users\\chari\\onedrive\\desktop\\keskia\\montoringsmarttraffic\\.venv\\lib\\site-packages (from ultralytics) (4.7.0.72)\n",
      "Requirement already satisfied: pillow>=7.1.2 in c:\\users\\chari\\onedrive\\desktop\\keskia\\montoringsmarttraffic\\.venv\\lib\\site-packages (from ultralytics) (10.2.0)\n",
      "Requirement already satisfied: pyyaml>=5.3.1 in c:\\users\\chari\\onedrive\\desktop\\keskia\\montoringsmarttraffic\\.venv\\lib\\site-packages (from ultralytics) (6.0.1)\n",
      "Requirement already satisfied: requests>=2.23.0 in c:\\users\\chari\\onedrive\\desktop\\keskia\\montoringsmarttraffic\\.venv\\lib\\site-packages (from ultralytics) (2.31.0)\n",
      "Requirement already satisfied: scipy>=1.4.1 in c:\\users\\chari\\onedrive\\desktop\\keskia\\montoringsmarttraffic\\.venv\\lib\\site-packages (from ultralytics) (1.12.0)\n",
      "Requirement already satisfied: torch>=1.8.0 in c:\\users\\chari\\onedrive\\desktop\\keskia\\montoringsmarttraffic\\.venv\\lib\\site-packages (from ultralytics) (2.1.2)\n",
      "Requirement already satisfied: torchvision>=0.9.0 in c:\\users\\chari\\onedrive\\desktop\\keskia\\montoringsmarttraffic\\.venv\\lib\\site-packages (from ultralytics) (0.16.2)\n",
      "Requirement already satisfied: tqdm>=4.64.0 in c:\\users\\chari\\onedrive\\desktop\\keskia\\montoringsmarttraffic\\.venv\\lib\\site-packages (from ultralytics) (4.66.1)\n",
      "Requirement already satisfied: psutil in c:\\users\\chari\\onedrive\\desktop\\keskia\\montoringsmarttraffic\\.venv\\lib\\site-packages (from ultralytics) (5.9.8)\n",
      "Requirement already satisfied: py-cpuinfo in c:\\users\\chari\\onedrive\\desktop\\keskia\\montoringsmarttraffic\\.venv\\lib\\site-packages (from ultralytics) (9.0.0)\n",
      "Requirement already satisfied: thop>=0.1.1 in c:\\users\\chari\\onedrive\\desktop\\keskia\\montoringsmarttraffic\\.venv\\lib\\site-packages (from ultralytics) (0.1.1.post2209072238)\n",
      "Requirement already satisfied: pandas>=1.1.4 in c:\\users\\chari\\onedrive\\desktop\\keskia\\montoringsmarttraffic\\.venv\\lib\\site-packages (from ultralytics) (2.2.0)\n",
      "Requirement already satisfied: seaborn>=0.11.0 in c:\\users\\chari\\onedrive\\desktop\\keskia\\montoringsmarttraffic\\.venv\\lib\\site-packages (from ultralytics) (0.13.1)\n",
      "Requirement already satisfied: hub-sdk>=0.0.2 in c:\\users\\chari\\onedrive\\desktop\\keskia\\montoringsmarttraffic\\.venv\\lib\\site-packages (from ultralytics) (0.0.3)\n",
      "Requirement already satisfied: contourpy>=1.0.1 in c:\\users\\chari\\onedrive\\desktop\\keskia\\montoringsmarttraffic\\.venv\\lib\\site-packages (from matplotlib>=3.3.0->ultralytics) (1.2.0)\n",
      "Requirement already satisfied: cycler>=0.10 in c:\\users\\chari\\onedrive\\desktop\\keskia\\montoringsmarttraffic\\.venv\\lib\\site-packages (from matplotlib>=3.3.0->ultralytics) (0.10.0)\n",
      "Requirement already satisfied: fonttools>=4.22.0 in c:\\users\\chari\\onedrive\\desktop\\keskia\\montoringsmarttraffic\\.venv\\lib\\site-packages (from matplotlib>=3.3.0->ultralytics) (4.47.2)\n",
      "Requirement already satisfied: kiwisolver>=1.3.1 in c:\\users\\chari\\onedrive\\desktop\\keskia\\montoringsmarttraffic\\.venv\\lib\\site-packages (from matplotlib>=3.3.0->ultralytics) (1.4.5)\n",
      "Requirement already satisfied: packaging>=20.0 in c:\\users\\chari\\onedrive\\desktop\\keskia\\montoringsmarttraffic\\.venv\\lib\\site-packages (from matplotlib>=3.3.0->ultralytics) (23.2)\n",
      "Requirement already satisfied: pyparsing>=2.3.1 in c:\\users\\chari\\onedrive\\desktop\\keskia\\montoringsmarttraffic\\.venv\\lib\\site-packages (from matplotlib>=3.3.0->ultralytics) (3.1.1)\n",
      "Requirement already satisfied: python-dateutil>=2.7 in c:\\users\\chari\\onedrive\\desktop\\keskia\\montoringsmarttraffic\\.venv\\lib\\site-packages (from matplotlib>=3.3.0->ultralytics) (2.8.2)\n",
      "Requirement already satisfied: pytz>=2020.1 in c:\\users\\chari\\onedrive\\desktop\\keskia\\montoringsmarttraffic\\.venv\\lib\\site-packages (from pandas>=1.1.4->ultralytics) (2023.3.post1)\n",
      "Requirement already satisfied: tzdata>=2022.7 in c:\\users\\chari\\onedrive\\desktop\\keskia\\montoringsmarttraffic\\.venv\\lib\\site-packages (from pandas>=1.1.4->ultralytics) (2023.4)\n",
      "Requirement already satisfied: charset-normalizer<4,>=2 in c:\\users\\chari\\onedrive\\desktop\\keskia\\montoringsmarttraffic\\.venv\\lib\\site-packages (from requests>=2.23.0->ultralytics) (3.3.2)\n",
      "Requirement already satisfied: idna<4,>=2.5 in c:\\users\\chari\\onedrive\\desktop\\keskia\\montoringsmarttraffic\\.venv\\lib\\site-packages (from requests>=2.23.0->ultralytics) (2.10)\n",
      "Requirement already satisfied: urllib3<3,>=1.21.1 in c:\\users\\chari\\onedrive\\desktop\\keskia\\montoringsmarttraffic\\.venv\\lib\\site-packages (from requests>=2.23.0->ultralytics) (2.1.0)\n",
      "Requirement already satisfied: certifi>=2017.4.17 in c:\\users\\chari\\onedrive\\desktop\\keskia\\montoringsmarttraffic\\.venv\\lib\\site-packages (from requests>=2.23.0->ultralytics) (2023.7.22)\n",
      "Requirement already satisfied: filelock in c:\\users\\chari\\onedrive\\desktop\\keskia\\montoringsmarttraffic\\.venv\\lib\\site-packages (from torch>=1.8.0->ultralytics) (3.13.1)\n",
      "Requirement already satisfied: typing-extensions in c:\\users\\chari\\onedrive\\desktop\\keskia\\montoringsmarttraffic\\.venv\\lib\\site-packages (from torch>=1.8.0->ultralytics) (4.9.0)\n",
      "Requirement already satisfied: sympy in c:\\users\\chari\\onedrive\\desktop\\keskia\\montoringsmarttraffic\\.venv\\lib\\site-packages (from torch>=1.8.0->ultralytics) (1.12)\n",
      "Requirement already satisfied: networkx in c:\\users\\chari\\onedrive\\desktop\\keskia\\montoringsmarttraffic\\.venv\\lib\\site-packages (from torch>=1.8.0->ultralytics) (3.2.1)\n",
      "Requirement already satisfied: jinja2 in c:\\users\\chari\\onedrive\\desktop\\keskia\\montoringsmarttraffic\\.venv\\lib\\site-packages (from torch>=1.8.0->ultralytics) (3.1.3)\n",
      "Requirement already satisfied: fsspec in c:\\users\\chari\\onedrive\\desktop\\keskia\\montoringsmarttraffic\\.venv\\lib\\site-packages (from torch>=1.8.0->ultralytics) (2023.12.2)\n",
      "Requirement already satisfied: colorama in c:\\users\\chari\\onedrive\\desktop\\keskia\\montoringsmarttraffic\\.venv\\lib\\site-packages (from tqdm>=4.64.0->ultralytics) (0.4.6)\n",
      "Requirement already satisfied: six in c:\\users\\chari\\onedrive\\desktop\\keskia\\montoringsmarttraffic\\.venv\\lib\\site-packages (from cycler>=0.10->matplotlib>=3.3.0->ultralytics) (1.16.0)\n",
      "Requirement already satisfied: MarkupSafe>=2.0 in c:\\users\\chari\\onedrive\\desktop\\keskia\\montoringsmarttraffic\\.venv\\lib\\site-packages (from jinja2->torch>=1.8.0->ultralytics) (2.1.4)\n",
      "Requirement already satisfied: mpmath>=0.19 in c:\\users\\chari\\onedrive\\desktop\\keskia\\montoringsmarttraffic\\.venv\\lib\\site-packages (from sympy->torch>=1.8.0->ultralytics) (1.3.0)\n"
     ]
    }
   ],
   "source": [
    "!python -m pip install --upgrade pip\n",
    "!pip3 install ultralyticsplus\n",
    "!python -m pip install --upgrade ultralyticsplus\n",
    "!pip3 install ultralytics"
   ]
  },
  {
   "cell_type": "markdown",
   "metadata": {},
   "source": [
    "---"
   ]
  },
  {
   "cell_type": "markdown",
   "metadata": {},
   "source": [
    "### **YOLOv8 model load**"
   ]
  },
  {
   "cell_type": "markdown",
   "metadata": {},
   "source": [
    "#### Chargement du modèle YOLO"
   ]
  },
  {
   "cell_type": "code",
   "execution_count": 62,
   "metadata": {},
   "outputs": [],
   "source": [
    "from ultralyticsplus import YOLO, render_result\n",
    "\n",
    "# load model\n",
    "model = YOLO('best.pt')\n",
    "\n",
    "# set model parameters\n",
    "model.overrides['conf'] = 0.25  # NMS confidence threshold\n",
    "model.overrides['iou'] = 0.45  # NMS IoU threshold\n",
    "model.overrides['agnostic_nms'] = False  # NMS class-agnostic\n",
    "model.overrides['max_det'] = 1000  # maximum number of detections per image"
   ]
  },
  {
   "cell_type": "markdown",
   "metadata": {},
   "source": [
    "#### Attributs et paramètres important du modèle YOLO"
   ]
  },
  {
   "cell_type": "code",
   "execution_count": 63,
   "metadata": {},
   "outputs": [
    {
     "name": "stdout",
     "output_type": "stream",
     "text": [
      "Les attributs de l'objet model : \n",
      " ['type', 'ModelClass', 'TrainerClass', 'ValidatorClass', 'PredictorClass', 'predictor', 'trainer', 'task', 'ckpt', 'cfg', 'ckpt_path', 'overrides', 'training', '_parameters', '_buffers', '_non_persistent_buffers_set', '_backward_pre_hooks', '_backward_hooks', '_is_full_backward_hook', '_forward_hooks', '_forward_hooks_with_kwargs', '_forward_hooks_always_called', '_forward_pre_hooks', '_forward_pre_hooks_with_kwargs', '_state_dict_hooks', '_state_dict_pre_hooks', '_load_state_dict_pre_hooks', '_load_state_dict_post_hooks', '_modules', 'callbacks', 'metrics', 'session', 'model_name']\n",
      "Les attributs secondaires de l'objet model : \n",
      " ['training', '_parameters', '_buffers', '_non_persistent_buffers_set', '_backward_pre_hooks', '_backward_hooks', '_is_full_backward_hook', '_forward_hooks', '_forward_hooks_with_kwargs', '_forward_hooks_always_called', '_forward_pre_hooks', '_forward_pre_hooks_with_kwargs', '_state_dict_hooks', '_state_dict_pre_hooks', '_load_state_dict_pre_hooks', '_load_state_dict_post_hooks', '_modules', 'yaml', 'save', 'names', 'inplace', 'stride', 'nc', 'args', 'criterion', 'pt_path', 'task']\n"
     ]
    }
   ],
   "source": [
    "print(\"Les attributs de l'objet model : \\n\", list(model.__dict__.keys()))\n",
    "print(\"Les attributs secondaires de l'objet model : \\n\", list(model.model.__dict__.keys()))"
   ]
  },
  {
   "cell_type": "code",
   "execution_count": 64,
   "metadata": {},
   "outputs": [
    {
     "name": "stdout",
     "output_type": "stream",
     "text": [
      "Les noms des classes :\n",
      "0 big bus\n",
      "1 big truck\n",
      "2 bus-l-\n",
      "3 bus-s-\n",
      "4 car\n",
      "5 mid truck\n",
      "6 small bus\n",
      "7 small truck\n",
      "8 truck-l-\n",
      "9 truck-m-\n",
      "10 truck-s-\n",
      "11 truck-xl-\n"
     ]
    }
   ],
   "source": [
    "print(\"Les noms des classes :\")\n",
    "for i in range(len(model.model.names)):\n",
    "    print(i, model.model.names[i])"
   ]
  },
  {
   "cell_type": "markdown",
   "metadata": {},
   "source": [
    "---"
   ]
  },
  {
   "cell_type": "markdown",
   "metadata": {},
   "source": [
    "### **Vehicle detection and counting from video**"
   ]
  },
  {
   "cell_type": "markdown",
   "metadata": {},
   "source": [
    "##### ↓ Imports ↓"
   ]
  },
  {
   "cell_type": "code",
   "execution_count": 65,
   "metadata": {},
   "outputs": [],
   "source": [
    "import cv2\n",
    "import numpy as np"
   ]
  },
  {
   "cell_type": "markdown",
   "metadata": {},
   "source": [
    "#### Analyse de véhicule sur la vidéo"
   ]
  },
  {
   "cell_type": "code",
   "execution_count": 68,
   "metadata": {},
   "outputs": [
    {
     "name": "stdout",
     "output_type": "stream",
     "text": [
      "\n",
      "0: 480x640 16 cars, 137.1ms\n",
      "Speed: 7.5ms preprocess, 137.1ms inference, 1.5ms postprocess per image at shape (1, 3, 480, 640)\n",
      "\n",
      "0: 480x640 23 cars, 76.3ms\n",
      "Speed: 3.0ms preprocess, 76.3ms inference, 1.0ms postprocess per image at shape (1, 3, 480, 640)\n",
      "\n",
      "0: 480x640 24 cars, 75.2ms\n",
      "Speed: 2.0ms preprocess, 75.2ms inference, 1.0ms postprocess per image at shape (1, 3, 480, 640)\n",
      "\n",
      "0: 480x640 24 cars, 75.9ms\n",
      "Speed: 3.0ms preprocess, 75.9ms inference, 1.0ms postprocess per image at shape (1, 3, 480, 640)\n",
      "\n",
      "0: 480x640 1 big bus, 24 cars, 78.7ms\n",
      "Speed: 2.5ms preprocess, 78.7ms inference, 1.5ms postprocess per image at shape (1, 3, 480, 640)\n",
      "\n",
      "0: 480x640 1 big bus, 20 cars, 76.0ms\n",
      "Speed: 3.0ms preprocess, 76.0ms inference, 1.0ms postprocess per image at shape (1, 3, 480, 640)\n",
      "\n",
      "0: 480x640 1 big bus, 23 cars, 76.3ms\n",
      "Speed: 2.0ms preprocess, 76.3ms inference, 1.0ms postprocess per image at shape (1, 3, 480, 640)\n",
      "\n",
      "0: 480x640 25 cars, 135.6ms\n",
      "Speed: 3.0ms preprocess, 135.6ms inference, 1.0ms postprocess per image at shape (1, 3, 480, 640)\n",
      "\n",
      "0: 480x640 1 big bus, 22 cars, 77.6ms\n",
      "Speed: 2.0ms preprocess, 77.6ms inference, 1.0ms postprocess per image at shape (1, 3, 480, 640)\n",
      "\n",
      "0: 480x640 24 cars, 1 truck-l-, 75.6ms\n",
      "Speed: 3.0ms preprocess, 75.6ms inference, 1.0ms postprocess per image at shape (1, 3, 480, 640)\n",
      "\n",
      "0: 480x640 22 cars, 78.7ms\n",
      "Speed: 2.0ms preprocess, 78.7ms inference, 1.0ms postprocess per image at shape (1, 3, 480, 640)\n",
      "\n",
      "0: 480x640 21 cars, 1 small bus, 77.6ms\n",
      "Speed: 1.0ms preprocess, 77.6ms inference, 1.0ms postprocess per image at shape (1, 3, 480, 640)\n",
      "\n",
      "0: 480x640 23 cars, 1 small bus, 75.9ms\n",
      "Speed: 3.0ms preprocess, 75.9ms inference, 1.0ms postprocess per image at shape (1, 3, 480, 640)\n",
      "\n",
      "0: 480x640 23 cars, 1 small bus, 75.8ms\n",
      "Speed: 1.0ms preprocess, 75.8ms inference, 2.0ms postprocess per image at shape (1, 3, 480, 640)\n",
      "\n",
      "0: 480x640 20 cars, 76.3ms\n",
      "Speed: 2.0ms preprocess, 76.3ms inference, 1.5ms postprocess per image at shape (1, 3, 480, 640)\n",
      "\n",
      "0: 480x640 23 cars, 77.8ms\n",
      "Speed: 2.5ms preprocess, 77.8ms inference, 1.5ms postprocess per image at shape (1, 3, 480, 640)\n",
      "\n",
      "0: 480x640 23 cars, 78.7ms\n",
      "Speed: 1.5ms preprocess, 78.7ms inference, 1.0ms postprocess per image at shape (1, 3, 480, 640)\n",
      "\n",
      "0: 480x640 20 cars, 85.6ms\n",
      "Speed: 2.5ms preprocess, 85.6ms inference, 1.0ms postprocess per image at shape (1, 3, 480, 640)\n",
      "\n",
      "0: 480x640 22 cars, 77.3ms\n",
      "Speed: 2.5ms preprocess, 77.3ms inference, 2.0ms postprocess per image at shape (1, 3, 480, 640)\n",
      "\n",
      "0: 480x640 25 cars, 74.2ms\n",
      "Speed: 3.5ms preprocess, 74.2ms inference, 2.0ms postprocess per image at shape (1, 3, 480, 640)\n",
      "\n",
      "0: 480x640 22 cars, 75.1ms\n",
      "Speed: 1.5ms preprocess, 75.1ms inference, 1.0ms postprocess per image at shape (1, 3, 480, 640)\n",
      "\n",
      "0: 480x640 22 cars, 75.8ms\n",
      "Speed: 3.0ms preprocess, 75.8ms inference, 1.0ms postprocess per image at shape (1, 3, 480, 640)\n",
      "\n",
      "0: 480x640 22 cars, 78.0ms\n",
      "Speed: 3.2ms preprocess, 78.0ms inference, 2.0ms postprocess per image at shape (1, 3, 480, 640)\n",
      "\n",
      "0: 480x640 20 cars, 78.8ms\n",
      "Speed: 2.5ms preprocess, 78.8ms inference, 1.0ms postprocess per image at shape (1, 3, 480, 640)\n",
      "\n",
      "0: 480x640 22 cars, 76.4ms\n",
      "Speed: 2.5ms preprocess, 76.4ms inference, 1.0ms postprocess per image at shape (1, 3, 480, 640)\n",
      "\n",
      "0: 480x640 21 cars, 82.0ms\n",
      "Speed: 1.0ms preprocess, 82.0ms inference, 1.0ms postprocess per image at shape (1, 3, 480, 640)\n",
      "\n",
      "0: 480x640 28 cars, 75.2ms\n",
      "Speed: 1.0ms preprocess, 75.2ms inference, 1.0ms postprocess per image at shape (1, 3, 480, 640)\n",
      "\n",
      "0: 480x640 23 cars, 74.1ms\n",
      "Speed: 2.0ms preprocess, 74.1ms inference, 1.0ms postprocess per image at shape (1, 3, 480, 640)\n",
      "\n",
      "0: 480x640 23 cars, 74.2ms\n",
      "Speed: 4.0ms preprocess, 74.2ms inference, 1.0ms postprocess per image at shape (1, 3, 480, 640)\n",
      "\n",
      "0: 480x640 21 cars, 72.7ms\n",
      "Speed: 2.5ms preprocess, 72.7ms inference, 1.0ms postprocess per image at shape (1, 3, 480, 640)\n",
      "\n",
      "0: 480x640 19 cars, 75.2ms\n",
      "Speed: 3.0ms preprocess, 75.2ms inference, 1.0ms postprocess per image at shape (1, 3, 480, 640)\n",
      "\n",
      "0: 480x640 19 cars, 73.7ms\n",
      "Speed: 3.0ms preprocess, 73.7ms inference, 1.0ms postprocess per image at shape (1, 3, 480, 640)\n",
      "\n",
      "0: 480x640 18 cars, 76.7ms\n",
      "Speed: 2.5ms preprocess, 76.7ms inference, 1.5ms postprocess per image at shape (1, 3, 480, 640)\n",
      "\n",
      "0: 480x640 17 cars, 73.0ms\n",
      "Speed: 2.0ms preprocess, 73.0ms inference, 1.0ms postprocess per image at shape (1, 3, 480, 640)\n",
      "\n",
      "0: 480x640 14 cars, 72.5ms\n",
      "Speed: 3.0ms preprocess, 72.5ms inference, 1.0ms postprocess per image at shape (1, 3, 480, 640)\n",
      "\n",
      "0: 480x640 16 cars, 73.8ms\n",
      "Speed: 2.0ms preprocess, 73.8ms inference, 2.0ms postprocess per image at shape (1, 3, 480, 640)\n",
      "\n",
      "0: 480x640 16 cars, 75.3ms\n",
      "Speed: 2.5ms preprocess, 75.3ms inference, 1.0ms postprocess per image at shape (1, 3, 480, 640)\n",
      "\n",
      "0: 480x640 13 cars, 1 small bus, 74.7ms\n",
      "Speed: 2.0ms preprocess, 74.7ms inference, 1.0ms postprocess per image at shape (1, 3, 480, 640)\n",
      "\n",
      "0: 480x640 15 cars, 75.2ms\n",
      "Speed: 2.5ms preprocess, 75.2ms inference, 2.0ms postprocess per image at shape (1, 3, 480, 640)\n",
      "\n",
      "0: 480x640 16 cars, 76.0ms\n",
      "Speed: 3.0ms preprocess, 76.0ms inference, 2.0ms postprocess per image at shape (1, 3, 480, 640)\n",
      "\n",
      "0: 480x640 16 cars, 73.2ms\n",
      "Speed: 3.0ms preprocess, 73.2ms inference, 1.0ms postprocess per image at shape (1, 3, 480, 640)\n",
      "\n",
      "0: 480x640 16 cars, 74.3ms\n",
      "Speed: 2.0ms preprocess, 74.3ms inference, 1.0ms postprocess per image at shape (1, 3, 480, 640)\n",
      "\n",
      "0: 480x640 15 cars, 1 truck-s-, 76.6ms\n",
      "Speed: 3.5ms preprocess, 76.6ms inference, 1.0ms postprocess per image at shape (1, 3, 480, 640)\n",
      "\n",
      "0: 480x640 13 cars, 75.8ms\n",
      "Speed: 3.0ms preprocess, 75.8ms inference, 1.0ms postprocess per image at shape (1, 3, 480, 640)\n",
      "\n",
      "0: 480x640 13 cars, 1 small bus, 73.9ms\n",
      "Speed: 1.5ms preprocess, 73.9ms inference, 2.1ms postprocess per image at shape (1, 3, 480, 640)\n",
      "\n",
      "0: 480x640 14 cars, 74.2ms\n",
      "Speed: 3.0ms preprocess, 74.2ms inference, 0.5ms postprocess per image at shape (1, 3, 480, 640)\n",
      "\n",
      "0: 480x640 12 cars, 76.8ms\n",
      "Speed: 2.0ms preprocess, 76.8ms inference, 1.0ms postprocess per image at shape (1, 3, 480, 640)\n",
      "\n",
      "0: 480x640 12 cars, 73.7ms\n",
      "Speed: 2.0ms preprocess, 73.7ms inference, 2.0ms postprocess per image at shape (1, 3, 480, 640)\n",
      "\n",
      "0: 480x640 14 cars, 78.4ms\n",
      "Speed: 3.5ms preprocess, 78.4ms inference, 1.0ms postprocess per image at shape (1, 3, 480, 640)\n",
      "\n",
      "0: 480x640 14 cars, 1 small bus, 77.0ms\n",
      "Speed: 2.0ms preprocess, 77.0ms inference, 1.0ms postprocess per image at shape (1, 3, 480, 640)\n",
      "\n",
      "0: 480x640 14 cars, 1 small bus, 75.8ms\n",
      "Speed: 2.5ms preprocess, 75.8ms inference, 1.0ms postprocess per image at shape (1, 3, 480, 640)\n",
      "\n",
      "0: 480x640 16 cars, 1 small truck, 74.0ms\n",
      "Speed: 2.0ms preprocess, 74.0ms inference, 1.0ms postprocess per image at shape (1, 3, 480, 640)\n",
      "\n",
      "0: 480x640 14 cars, 1 truck-s-, 73.7ms\n",
      "Speed: 3.0ms preprocess, 73.7ms inference, 1.0ms postprocess per image at shape (1, 3, 480, 640)\n"
     ]
    }
   ],
   "source": [
    "# check the path to the vid.avi file\n",
    "cap = cv2.VideoCapture('media/in/feu4.avi')\n",
    "\n",
    "# get video properties\n",
    "fps = cap.get(cv2.CAP_PROP_FPS)\n",
    "width = int(cap.get(cv2.CAP_PROP_FRAME_WIDTH))\n",
    "height = int(cap.get(cv2.CAP_PROP_FRAME_HEIGHT))\n",
    "\n",
    "# create video writer\n",
    "fourcc = cv2.VideoWriter_fourcc(*'XVID')\n",
    "out = cv2.VideoWriter('media/out/output.avi', fourcc, fps, (width, height))\n",
    "\n",
    "while(cap.isOpened()):\n",
    "    ret, frame = cap.read()\n",
    "    if ret == True:\n",
    "        # perform inference\n",
    "        results = model.predict(frame)\n",
    "                \n",
    "        # observe results\n",
    "        render = render_result(model=model, image=frame, result=results[0])\n",
    "\n",
    "        # Convert PIL Image to numpy array\n",
    "        frame_out = np.array(render)\n",
    "\n",
    "        # save frame to video\n",
    "        out.write(frame_out)\n",
    "\n",
    "        # Sortie si 'q' est pressé\n",
    "        if cv2.waitKey(1) & 0xFF == ord('q'):\n",
    "            break\n",
    "    else:\n",
    "        break\n",
    "\n",
    "# release resources\n",
    "cap.release()\n",
    "out.release()\n",
    "\n",
    "# avi to mp4\n",
    "out = cv2.VideoWriter('output.mp4', fourcc, fps, (width, height))\n",
    "\n",
    "cv2.destroyAllWindows()\n"
   ]
  },
  {
   "cell_type": "markdown",
   "metadata": {},
   "source": [
    "#### Tri et comptage des véhicules détectés"
   ]
  },
  {
   "cell_type": "code",
   "execution_count": 69,
   "metadata": {},
   "outputs": [
    {
     "name": "stdout",
     "output_type": "stream",
     "text": [
      "Dictionnaire de détections: \n",
      " {'car': 14, 'truck-s-': 1}\n"
     ]
    }
   ],
   "source": [
    "# Initialiser un dictionnaire pour compter les détections pour chaque classe\n",
    "detection_counts = {}\n",
    "\n",
    "detections = results[0].boxes.data\n",
    "\n",
    "for d in detections:\n",
    "    class_id = int(d[5])\n",
    "    class_name = model.model.names[class_id]\n",
    "\n",
    "    if class_name in detection_counts:\n",
    "        detection_counts[class_name]+=1\n",
    "    else: detection_counts[class_name]=1\n",
    "\n",
    "print(f\"Dictionnaire de détections: \\n\", detection_counts)\n"
   ]
  },
  {
   "cell_type": "code",
   "execution_count": 70,
   "metadata": {},
   "outputs": [
    {
     "name": "stdout",
     "output_type": "stream",
     "text": [
      "Nombre de camions: 1\n",
      "\n",
      "Nombre de bus: 0\n",
      "\n",
      "Nombre de voitures: 14\n"
     ]
    }
   ],
   "source": [
    "trucks = (\n",
    "    detection_counts.get(\"big truck\", 0) +\n",
    "    detection_counts.get(\"mid truck\", 0) +\n",
    "    detection_counts.get(\"small truck\", 0) +\n",
    "    detection_counts.get(\"truck-l-\", 0) +\n",
    "    detection_counts.get(\"truck-m-\", 0) +\n",
    "    detection_counts.get(\"truck-s-\", 0) +\n",
    "    detection_counts.get(\"truck-xl-\", 0)\n",
    ")\n",
    "\n",
    "buses = (\n",
    "    detection_counts.get(\"bus-s-\", 0) +\n",
    "    detection_counts.get(\"big bus\", 0) +\n",
    "    detection_counts.get(\"small bus\", 0) +\n",
    "    detection_counts.get(\"bus-l-\", 0)\n",
    ")\n",
    "\n",
    "cars = detection_counts.get(\"car\", 0)\n",
    "\n",
    "print(f\"Nombre de camions: {trucks}\\n\\nNombre de bus: {buses}\\n\\nNombre de voitures: {cars}\")"
   ]
  },
  {
   "cell_type": "markdown",
   "metadata": {},
   "source": [
    "---"
   ]
  },
  {
   "cell_type": "markdown",
   "metadata": {},
   "source": [
    "### **Connect to a SQLite database**"
   ]
  },
  {
   "cell_type": "markdown",
   "metadata": {},
   "source": [
    "##### ↓ Imports ↓"
   ]
  },
  {
   "cell_type": "code",
   "execution_count": 71,
   "metadata": {},
   "outputs": [
    {
     "data": {
      "text/plain": [
       "'fr_FR.UTF-8'"
      ]
     },
     "execution_count": 71,
     "metadata": {},
     "output_type": "execute_result"
    }
   ],
   "source": [
    "import sqlite3\n",
    "import locale\n",
    "locale.setlocale(locale.LC_ALL, 'fr_FR.UTF-8')"
   ]
  },
  {
   "cell_type": "markdown",
   "metadata": {},
   "source": [
    "###### Chemin d'accès vers la base de données"
   ]
  },
  {
   "cell_type": "code",
   "execution_count": 72,
   "metadata": {},
   "outputs": [
    {
     "name": "stdout",
     "output_type": "stream",
     "text": [
      "c:\\Users\\chari\\OneDrive\\Desktop\\KESKIA\\MontoringSmartTraffic\\project\\yolo_project\\src\\db-copy.sqlite3\n"
     ]
    }
   ],
   "source": [
    "import os\n",
    "db_path = os.path.join(os.getcwd(), \"db-copy.sqlite3\")\n",
    "print(db_path)\n"
   ]
  },
  {
   "cell_type": "markdown",
   "metadata": {},
   "source": [
    "#### Réinitialiser les données de base"
   ]
  },
  {
   "cell_type": "code",
   "execution_count": 78,
   "metadata": {},
   "outputs": [],
   "source": [
    "import sqlite3\n",
    "\n",
    "def reinitialiser_donnees():\n",
    "    # Connect to the SQLite database\n",
    "    conn = sqlite3.connect('db-copy.sqlite3')\n",
    "    c = conn.cursor()\n",
    "\n",
    "    # Temporarily disable foreign key constraints\n",
    "    c.execute(\"PRAGMA foreign_keys = OFF;\")\n",
    "\n",
    "    # Delete all data from the tables in the correct order\n",
    "    tables = ['app_detectionvehicule', 'app_detection', 'app_vehicule', 'app_feu', 'app_etatfeu', 'app_rue', 'app_typevehicule', 'app_temps']\n",
    "    for table in tables:\n",
    "        c.execute(f\"DELETE FROM {table};\")\n",
    "\n",
    "    # Re-enable foreign key constraints\n",
    "    c.execute(\"PRAGMA foreign_keys = ON;\")\n",
    "\n",
    "    # Insert data into the tables\n",
    "    c.execute(\"INSERT INTO app_rue (idRue ,nomRue) VALUES (1, 'Route d''Orléans'), (2, 'Route de Massy');\")\n",
    "    c.execute(\"INSERT INTO app_typevehicule (idTypeVehicule, nomTypeVehicule) VALUES (1, 'Voiture'), (2, 'Camion'), (3, 'Bus');\")\n",
    "    c.execute(\"INSERT INTO app_etatfeu (idEtatFeu, nomEtatFeu) VALUES (1, 'Vert'), (2, 'Rouge'), (3, 'Orange'), (4, 'Eteint');\")\n",
    "    c.execute(\"INSERT INTO app_feu (idFeu, nomFeu, rue_id, etatFeu_id) VALUES (1, 'Feu1', 1, 1), (2, 'Feu2', 1, 1), (3, 'Feu3', 2, 2), (4, 'Feu4', 2, 2);\")\n",
    "\n",
    "    # Commit the changes and close the connection\n",
    "    conn.commit()\n",
    "    conn.close()\n",
    "\n",
    "reinitialiser_donnees()"
   ]
  },
  {
   "cell_type": "markdown",
   "metadata": {},
   "source": [
    "#### Insertion des détections sur la base SQLite"
   ]
  },
  {
   "cell_type": "code",
   "execution_count": 79,
   "metadata": {},
   "outputs": [],
   "source": [
    "import sqlite3\n",
    "import datetime\n",
    "\n",
    "# Fonction pour insérer les détections\n",
    "def inserer_detections(id_type_vehicule, nombre_detections, id_rue, id_feu, curseur, dateH, semaine, jour, weekEnd):\n",
    "    for i in range(nombre_detections):\n",
    "        curseur.execute(\"INSERT INTO app_temps (dateHeure, semaine, jourSemaine, isWeekEnd) VALUES (?, ?, ?, ?)\", (dateH, semaine, jour, weekEnd))    \n",
    "        idTemps = curseur.lastrowid\n",
    "\n",
    "        curseur.execute(\"INSERT INTO app_detection (temps_id, rue_id, feu_id) VALUES (?, ?, ?)\", (idTemps, id_rue, id_feu))\n",
    "        idDetection = curseur.lastrowid\n",
    "\n",
    "        curseur.execute(\"INSERT INTO app_vehicule (nomVehicule, typevehicule_id) VALUES (?, ?)\", (\"Véhicule\", id_type_vehicule))\n",
    "        idVehicule = curseur.lastrowid\n",
    "\n",
    "        curseur.execute(\"INSERT INTO app_detectionvehicule (vehicule_id, detection_id) VALUES (?, ?)\", (idVehicule, idDetection))\n",
    "\n",
    "# Fonction pour réinitialiser le compteur d'auto-incrémentation des ids\n",
    "def reset_autoincrement(cursor, table_name):\n",
    "    cursor.execute(f\"UPDATE sqlite_sequence SET seq = 0 WHERE name = '{table_name}'\")\n",
    "\n",
    "# Récupération des données temporelles\n",
    "dateH = datetime.datetime.now()\n",
    "semaine = dateH.isocalendar()[1]\n",
    "jour = dateH.strftime(\"%A\").capitalize()\n",
    "weekEnd = jour in [\"Samedi\", \"Dimanche\"]\n",
    "\n",
    "def insertion(id_rue, id_feu):\n",
    "    # Connexion à la base de données avec un gestionnaire de contexte\n",
    "    try:\n",
    "        with sqlite3.connect(\"db-copy.sqlite3\") as connexion:\n",
    "            curseur = connexion.cursor()\n",
    "            isDetection = False\n",
    "            reset_autoincrement(curseur, 'app_temps')\n",
    "            reset_autoincrement(curseur, 'app_detection')\n",
    "            reset_autoincrement(curseur, 'app_vehicule')\n",
    "            reset_autoincrement(curseur, 'app_detectionvehicule')\n",
    "\n",
    "            if buses > 0:\n",
    "                isDetection = True\n",
    "                inserer_detections(3, buses, id_rue, id_feu, curseur, dateH, semaine, jour, weekEnd)\n",
    "\n",
    "\n",
    "            if cars > 0:\n",
    "                isDetection = True\n",
    "                inserer_detections(1, cars, id_rue, id_feu, curseur, dateH, semaine, jour, weekEnd)\n",
    "\n",
    "\n",
    "            if trucks > 0:\n",
    "                isDetection = True\n",
    "                inserer_detections(2, trucks, id_rue, id_feu, curseur, dateH, semaine, jour, weekEnd)\n",
    "\n",
    "            if not isDetection:\n",
    "                print(\"Pas de véhicule détecté !\")\n",
    "\n",
    "\n",
    "            # La transaction est automatiquement validée (commit) en sortant du bloc with\n",
    "    except sqlite3.Error as e:\n",
    "        print(\"Une erreur est survenue lors de la connexion à la base de données:\", e)\n",
    "\n",
    "id_rue, id_feu = 1, 3\n",
    "insertion(id_rue, id_feu)\n"
   ]
  },
  {
   "cell_type": "code",
   "execution_count": 80,
   "metadata": {},
   "outputs": [
    {
     "name": "stdout",
     "output_type": "stream",
     "text": [
      "(1, 1, 1, 3)\n",
      "(2, 1, 2, 3)\n",
      "(3, 1, 3, 3)\n",
      "(4, 1, 4, 3)\n",
      "(5, 1, 5, 3)\n",
      "(6, 1, 6, 3)\n",
      "(7, 1, 7, 3)\n",
      "(8, 1, 8, 3)\n",
      "(9, 1, 9, 3)\n",
      "(10, 1, 10, 3)\n",
      "(11, 1, 11, 3)\n",
      "(12, 1, 12, 3)\n",
      "(13, 1, 13, 3)\n",
      "(14, 1, 14, 3)\n",
      "(15, 1, 15, 3)\n"
     ]
    }
   ],
   "source": [
    "def afficher_all_detections():\n",
    "    try:\n",
    "        with sqlite3.connect(\"db-copy.sqlite3\") as connexion:\n",
    "            curseur = connexion.cursor()\n",
    "            detections = curseur.execute(\"SELECT * FROM app_detection\")\n",
    "            for detection in detections:\n",
    "                print(detection)\n",
    "    except sqlite3.Error as e:\n",
    "        print(\"Une erreur est survenue lors de la connexion à la base de données:\", e)\n",
    "afficher_all_detections()"
   ]
  },
  {
   "cell_type": "markdown",
   "metadata": {},
   "source": [
    "#### Visionnage des données dans la base"
   ]
  },
  {
   "cell_type": "code",
   "execution_count": null,
   "metadata": {},
   "outputs": [],
   "source": [
    "import os\n",
    "\n",
    "db_path = os.path.join(os.getcwd(), \"db-copy.sqlite3\")\n",
    "if not os.path.exists(db_path):\n",
    "    raise FileNotFoundError(f\"Database file not found: {db_path}\")"
   ]
  },
  {
   "cell_type": "markdown",
   "metadata": {},
   "source": [
    "##### Les véhicules"
   ]
  },
  {
   "cell_type": "code",
   "execution_count": null,
   "metadata": {},
   "outputs": [],
   "source": [
    "def afficher_all_vehicules():\n",
    "    try:\n",
    "        with sqlite3.connect(\"db-copy.sqlite3\") as connexion:\n",
    "            curseur = connexion.cursor()\n",
    "            detections = curseur.execute(\"SELECT * FROM app_vehicule\")\n",
    "            for detection in detections:\n",
    "                print(detection)\n",
    "    except sqlite3.Error as e:\n",
    "        print(\"Une erreur est survenue lors de la connexion à la base de données:\", e)\n",
    "afficher_all_vehicules()"
   ]
  },
  {
   "cell_type": "markdown",
   "metadata": {},
   "source": [
    "##### Les véhicules par feux"
   ]
  },
  {
   "cell_type": "code",
   "execution_count": null,
   "metadata": {},
   "outputs": [],
   "source": [
    "def afficher_vehicules_by_feux():\n",
    "    try:\n",
    "        with sqlite3.connect(\"db-copy.sqlite3\") as connexion:\n",
    "            curseur = connexion.cursor()\n",
    "            detections = curseur.execute(f\"SELECT count(idDetection), feu_id FROM app_detection GROUP BY feu_id\")\n",
    "            for detection in detections:\n",
    "                print(detection)\n",
    "    except sqlite3.Error as e:\n",
    "        print(\"Une erreur est survenue lors de la connexion à la base de données:\", e)\n",
    "\n",
    "def afficher_vehicules_by_feu(feu):\n",
    "    try:\n",
    "        with sqlite3.connect(\"db-copy.sqlite3\") as connexion:\n",
    "            curseur = connexion.cursor()\n",
    "            detections = curseur.execute(f\"SELECT count(idDetection), feu_id FROM app_detection WHERE feu_id = {feu} GROUP BY feu_id\")\n",
    "            for detection in detections:\n",
    "                print(detection)\n",
    "    except sqlite3.Error as e:\n",
    "        print(\"Une erreur est survenue lors de la connexion à la base de données:\", e)\n",
    "\n",
    "afficher_vehicules_by_feux()\n",
    "afficher_vehicules_by_feu(3)\n",
    "            "
   ]
  },
  {
   "cell_type": "markdown",
   "metadata": {},
   "source": [
    "##### Les véhicules regroupés par type"
   ]
  },
  {
   "cell_type": "code",
   "execution_count": null,
   "metadata": {},
   "outputs": [],
   "source": [
    "def afficher_vehicules_by_types():\n",
    "    try:\n",
    "        with sqlite3.connect(\"db-copy.sqlite3\") as connexion:\n",
    "            curseur = connexion.cursor()\n",
    "            detections = curseur.execute(\"SELECT count(id), nomTypeVehicule FROM app_detectionvehicule INNER JOIN app_vehicule ON vehicule_id=idVehicule INNER JOIN app_typevehicule ON typevehicule_id=idTypeVehicule GROUP BY typevehicule_id\")\n",
    "            for detection in detections:\n",
    "                print(detection)\n",
    "    except sqlite3.Error as e:\n",
    "        print(\"Une erreur est survenue lors de la connexion à la base de données:\", e)\n",
    "\n",
    "# def afficher_vehicules_by_type(nomType):\n",
    "#     try:\n",
    "#         with sqlite3.connect(\"db-copy.sqlite3\") as connexion:\n",
    "#             curseur = connexion.cursor()\n",
    "#             detections = curseur.execute(f\"SELECT count(id), nomTypeVehicule FROM app_detectionvehicule INNER JOIN app_vehicule ON vehicule_id=idVehicule INNER JOIN app_typevehicule ON typevehicule_id=idTypeVehicule WHERE app_typevehicule.nomTypeVehicule = {nomType} GROUP BY typevehicule_id\")\n",
    "#             for detection in detections:\n",
    "#                 print(detection)\n",
    "#     except sqlite3.Error as e:\n",
    "#         print(\"Une erreur est survenue lors de la connexion à la base de données:\", e)*\n",
    "\n",
    "afficher_vehicules_by_types()\n",
    "# afficher_vehicules_by_type(\"Bus\")"
   ]
  },
  {
   "cell_type": "markdown",
   "metadata": {},
   "source": [
    "#### Graphiques des données"
   ]
  },
  {
   "cell_type": "markdown",
   "metadata": {},
   "source": [
    "##### Graphique n°1 : véhicules détectés par feu"
   ]
  },
  {
   "cell_type": "code",
   "execution_count": null,
   "metadata": {},
   "outputs": [],
   "source": [
    "import matplotlib.pyplot as plt\n",
    "import sqlite3\n",
    "\n",
    "def graphique_vehicule_by_feu(feu_id):\n",
    "    try:\n",
    "        with sqlite3.connect(\"db-copy.sqlite3\") as connexion:\n",
    "            curseur = connexion.cursor()\n",
    "            detections = list(curseur.execute(f\"SELECT count(idDetection), feu_id FROM app_detection WHERE feu_id = {feu_id} GROUP BY feu_id\"))\n",
    "            data = [d[0] for d in detections] \n",
    "            feu_ids = [d[1] for d in detections]  \n",
    "\n",
    "            # create the bar chart\n",
    "            plt.bar(feu_ids, data)\n",
    "            plt.xticks(feu_ids)\n",
    "            plt.yticks(data)\n",
    "            plt.xlabel('Feu')\n",
    "            plt.ylabel('Nombre de véhicules')\n",
    "            plt.title('Véhicules détectés par feu')\n",
    "            plt.show()\n",
    "\n",
    "    except sqlite3.Error as e:\n",
    "        print(\"Une erreur est survenue lors de la connexion à la base de données:\", e)\n",
    "\n",
    "graphique_vehicule_by_feu(3)"
   ]
  },
  {
   "cell_type": "markdown",
   "metadata": {},
   "source": [
    "##### Graphique n°2 : véhicules détectés par type"
   ]
  },
  {
   "cell_type": "code",
   "execution_count": null,
   "metadata": {},
   "outputs": [],
   "source": [
    "import matplotlib.pyplot as plt\n",
    "import sqlite3\n",
    "\n",
    "def graphique_vehicule_by_type():\n",
    "    try:\n",
    "        with sqlite3.connect(\"db-copy.sqlite3\") as connexion:\n",
    "            curseur = connexion.cursor()\n",
    "            detections = list(curseur.execute(\"SELECT count(id), nomTypeVehicule FROM app_detectionvehicule INNER JOIN app_vehicule ON vehicule_id=idVehicule INNER JOIN app_typevehicule ON typevehicule_id=idTypeVehicule GROUP BY typevehicule_id\"))\n",
    "            data = [d[0] for d in detections] \n",
    "            type_vehicules = [d[1] for d in detections]  \n",
    "\n",
    "            # create the bar chart\n",
    "            plt.bar(type_vehicules, data)\n",
    "            plt.xticks(type_vehicules)\n",
    "            plt.yticks(data)\n",
    "            plt.xlabel('Type de véhicule')\n",
    "            plt.ylabel('Nombre de véhicules')\n",
    "            plt.title('Véhicules détectés par type')\n",
    "            plt.show()\n",
    "\n",
    "    except sqlite3.Error as e:\n",
    "        print(\"Une erreur est survenue lors de la connexion à la base de données:\", e)\n",
    "\n",
    "graphique_vehicule_by_type()\n"
   ]
  },
  {
   "cell_type": "markdown",
   "metadata": {},
   "source": [
    "### &copy; 2024 Smart Traffic\n"
   ]
  }
 ],
 "metadata": {
  "kernelspec": {
   "display_name": "Python 3",
   "language": "python",
   "name": "python3"
  },
  "language_info": {
   "codemirror_mode": {
    "name": "ipython",
    "version": 3
   },
   "file_extension": ".py",
   "mimetype": "text/x-python",
   "name": "python",
   "nbconvert_exporter": "python",
   "pygments_lexer": "ipython3",
   "version": "3.11.0"
  }
 },
 "nbformat": 4,
 "nbformat_minor": 2
}
